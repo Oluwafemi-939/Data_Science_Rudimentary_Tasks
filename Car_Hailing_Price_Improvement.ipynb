{
  "nbformat": 4,
  "nbformat_minor": 0,
  "metadata": {
    "colab": {
      "name": "BoltTask_2(Billing).ipynb",
      "provenance": [],
      "collapsed_sections": []
    },
    "kernelspec": {
      "name": "python3",
      "display_name": "Python 3"
    },
    "language_info": {
      "name": "python"
    }
  },
  "cells": [
    {
      "cell_type": "code",
      "metadata": {
        "id": "AoTvD3tl0IL2"
      },
      "source": [
        ""
      ],
      "execution_count": null,
      "outputs": []
    },
    {
      "cell_type": "markdown",
      "metadata": {
        "id": "s14l0Yt50JF-"
      },
      "source": [
        "# **DATA ANALYSIS**\n",
        "\n",
        "- Tasks :\n",
        "\n",
        "- Improvement of the Upfront Pricing Precision\n",
        "\n",
        "- Identification of Key features/Opportunities for such improvement "
      ]
    },
    {
      "cell_type": "code",
      "metadata": {
        "id": "nSbi7NWdF0Rd"
      },
      "source": [
        ""
      ],
      "execution_count": null,
      "outputs": []
    },
    {
      "cell_type": "markdown",
      "metadata": {
        "id": "uvuihrpKGAil"
      },
      "source": [
        "![Bolt logo.jpg](data:image/jpeg;base64,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)"
      ]
    },
    {
      "cell_type": "code",
      "metadata": {
        "id": "elgpZFqTGzd6"
      },
      "source": [
        ""
      ],
      "execution_count": null,
      "outputs": []
    },
    {
      "cell_type": "markdown",
      "metadata": {
        "id": "fQGoJ0Bq1Iwr"
      },
      "source": [
        "# **Table of Content** \n",
        "\n",
        "- SECTION A: *Importations*\n",
        "\n",
        "  - Data Importation and Date fixings\n",
        "\n",
        "- SECTION B: *Expository Data Analysis*\n",
        "\n",
        "  - Data Descriptive Analysis\n",
        "\n",
        "  - Data Cleaning\n",
        "\n",
        "  - Feature Engineering\n",
        "\n",
        "  - Data Splitting for Analysis\n",
        "\n",
        "  \n",
        "\n",
        "- SECTION C: Features' Evaluation\n",
        "\n",
        "  - GPS Confidence\n",
        "\n",
        "  - Destination Change\n",
        "\n",
        "  - Distance & Pred Distance\n",
        "\n",
        "  - Duration & Pred Duration\n",
        "\n",
        "  - EU Indicators\n",
        "\n",
        "  - Order Time\n",
        "\n",
        "  - App Versions\n",
        "\n",
        "  - Features' Correlation\n",
        "\n",
        "- Section D: Conclusions\n"
      ]
    },
    {
      "cell_type": "code",
      "metadata": {
        "id": "dfsinnmzF0OY"
      },
      "source": [
        ""
      ],
      "execution_count": null,
      "outputs": []
    },
    {
      "cell_type": "markdown",
      "metadata": {
        "id": "OaLafRNhy8xr"
      },
      "source": [
        "# Section A"
      ]
    },
    {
      "cell_type": "markdown",
      "metadata": {
        "id": "SQN5mSoHn0k3"
      },
      "source": [
        "# Import"
      ]
    },
    {
      "cell_type": "code",
      "metadata": {
        "id": "l7iEUSsLjB97"
      },
      "source": [
        "import pandas as pd\n",
        "import matplotlib.pyplot as plt\n",
        "import numpy as np\n",
        "import seaborn as sns\n",
        "from datetime import datetime as dt_dt\n",
        "from matplotlib import collections as matcoll"
      ],
      "execution_count": null,
      "outputs": []
    },
    {
      "cell_type": "code",
      "metadata": {
        "id": "x5cZdCjDjv_-"
      },
      "source": [
        "import warnings\n",
        "warnings.filterwarnings(\"ignore\")"
      ],
      "execution_count": null,
      "outputs": []
    },
    {
      "cell_type": "code",
      "metadata": {
        "colab": {
          "base_uri": "https://localhost:8080/",
          "height": 305
        },
        "id": "m15EMiJEoDNn",
        "outputId": "f0fe953e-9a1b-4be6-b1a0-a30aa2878fe7"
      },
      "source": [
        "          ##Import test  Data\n",
        "Billing_df = pd.read_csv(\"/content/drive/MyDrive/Colab Notebooks/Data Science Projects/Billing_data.csv\")\n",
        "Billing_df.head()"
      ],
      "execution_count": null,
      "outputs": [
        {
          "output_type": "execute_result",
          "data": {
            "text/html": [
              "<div>\n",
              "<style scoped>\n",
              "    .dataframe tbody tr th:only-of-type {\n",
              "        vertical-align: middle;\n",
              "    }\n",
              "\n",
              "    .dataframe tbody tr th {\n",
              "        vertical-align: top;\n",
              "    }\n",
              "\n",
              "    .dataframe thead th {\n",
              "        text-align: right;\n",
              "    }\n",
              "</style>\n",
              "<table border=\"1\" class=\"dataframe\">\n",
              "  <thead>\n",
              "    <tr style=\"text-align: right;\">\n",
              "      <th></th>\n",
              "      <th>order_id_new</th>\n",
              "      <th>order_try_id_new</th>\n",
              "      <th>calc_created</th>\n",
              "      <th>metered_price</th>\n",
              "      <th>upfront_price</th>\n",
              "      <th>distance</th>\n",
              "      <th>duration</th>\n",
              "      <th>gps_confidence</th>\n",
              "      <th>entered_by</th>\n",
              "      <th>b_state</th>\n",
              "      <th>dest_change_number</th>\n",
              "      <th>prediction_price_type</th>\n",
              "      <th>predicted_distance</th>\n",
              "      <th>predicted_duration</th>\n",
              "      <th>change_reason_pricing</th>\n",
              "      <th>ticket_id_new</th>\n",
              "      <th>device_token</th>\n",
              "      <th>rider_app_version</th>\n",
              "      <th>order_state</th>\n",
              "      <th>order_try_state</th>\n",
              "      <th>driver_app_version</th>\n",
              "      <th>driver_device_uid_new</th>\n",
              "      <th>device_name</th>\n",
              "      <th>eu_indicator</th>\n",
              "      <th>overpaid_ride_ticket</th>\n",
              "      <th>fraud_score</th>\n",
              "    </tr>\n",
              "  </thead>\n",
              "  <tbody>\n",
              "    <tr>\n",
              "      <th>0</th>\n",
              "      <td>22</td>\n",
              "      <td>22</td>\n",
              "      <td>2020-02-02 3:37:31</td>\n",
              "      <td>4.04</td>\n",
              "      <td>10.0</td>\n",
              "      <td>2839</td>\n",
              "      <td>700</td>\n",
              "      <td>1</td>\n",
              "      <td>client</td>\n",
              "      <td>finished</td>\n",
              "      <td>1</td>\n",
              "      <td>upfront</td>\n",
              "      <td>13384.0</td>\n",
              "      <td>1091.0</td>\n",
              "      <td>NaN</td>\n",
              "      <td>1376</td>\n",
              "      <td>NaN</td>\n",
              "      <td>CI.4.17</td>\n",
              "      <td>finished</td>\n",
              "      <td>finished</td>\n",
              "      <td>DA.4.37</td>\n",
              "      <td>1596</td>\n",
              "      <td>Xiaomi Redmi 6</td>\n",
              "      <td>1</td>\n",
              "      <td>0</td>\n",
              "      <td>-1383.0</td>\n",
              "    </tr>\n",
              "    <tr>\n",
              "      <th>1</th>\n",
              "      <td>618</td>\n",
              "      <td>618</td>\n",
              "      <td>2020-02-08 2:26:19</td>\n",
              "      <td>6.09</td>\n",
              "      <td>3.6</td>\n",
              "      <td>5698</td>\n",
              "      <td>493</td>\n",
              "      <td>1</td>\n",
              "      <td>client</td>\n",
              "      <td>finished</td>\n",
              "      <td>1</td>\n",
              "      <td>upfront</td>\n",
              "      <td>2286.0</td>\n",
              "      <td>360.0</td>\n",
              "      <td>NaN</td>\n",
              "      <td>2035</td>\n",
              "      <td>NaN</td>\n",
              "      <td>CA.5.43</td>\n",
              "      <td>finished</td>\n",
              "      <td>finished</td>\n",
              "      <td>DA.4.39</td>\n",
              "      <td>1578</td>\n",
              "      <td>Samsung SM-G965F</td>\n",
              "      <td>1</td>\n",
              "      <td>0</td>\n",
              "      <td>NaN</td>\n",
              "    </tr>\n",
              "    <tr>\n",
              "      <th>2</th>\n",
              "      <td>657</td>\n",
              "      <td>657</td>\n",
              "      <td>2020-02-08 11:50:35</td>\n",
              "      <td>4.32</td>\n",
              "      <td>3.5</td>\n",
              "      <td>4426</td>\n",
              "      <td>695</td>\n",
              "      <td>1</td>\n",
              "      <td>client</td>\n",
              "      <td>finished</td>\n",
              "      <td>1</td>\n",
              "      <td>upfront</td>\n",
              "      <td>4101.0</td>\n",
              "      <td>433.0</td>\n",
              "      <td>NaN</td>\n",
              "      <td>2222</td>\n",
              "      <td>NaN</td>\n",
              "      <td>CA.5.43</td>\n",
              "      <td>finished</td>\n",
              "      <td>finished</td>\n",
              "      <td>DA.4.37</td>\n",
              "      <td>951</td>\n",
              "      <td>Samsung SM-A530F</td>\n",
              "      <td>1</td>\n",
              "      <td>0</td>\n",
              "      <td>-166.0</td>\n",
              "    </tr>\n",
              "    <tr>\n",
              "      <th>3</th>\n",
              "      <td>313</td>\n",
              "      <td>313</td>\n",
              "      <td>2020-02-05 6:34:54</td>\n",
              "      <td>72871.72</td>\n",
              "      <td>NaN</td>\n",
              "      <td>49748</td>\n",
              "      <td>1400</td>\n",
              "      <td>0</td>\n",
              "      <td>client</td>\n",
              "      <td>finished</td>\n",
              "      <td>2</td>\n",
              "      <td>upfront_destination_changed</td>\n",
              "      <td>3017.0</td>\n",
              "      <td>600.0</td>\n",
              "      <td>client_destination_changed</td>\n",
              "      <td>1788</td>\n",
              "      <td>NaN</td>\n",
              "      <td>CA.5.23</td>\n",
              "      <td>finished</td>\n",
              "      <td>finished</td>\n",
              "      <td>DA.4.37</td>\n",
              "      <td>1587</td>\n",
              "      <td>TECNO-Y6</td>\n",
              "      <td>0</td>\n",
              "      <td>1</td>\n",
              "      <td>NaN</td>\n",
              "    </tr>\n",
              "    <tr>\n",
              "      <th>4</th>\n",
              "      <td>1176</td>\n",
              "      <td>1176</td>\n",
              "      <td>2020-02-13 17:31:24</td>\n",
              "      <td>20032.50</td>\n",
              "      <td>19500.0</td>\n",
              "      <td>10273</td>\n",
              "      <td>5067</td>\n",
              "      <td>1</td>\n",
              "      <td>client</td>\n",
              "      <td>finished</td>\n",
              "      <td>1</td>\n",
              "      <td>upfront</td>\n",
              "      <td>14236.0</td>\n",
              "      <td>2778.0</td>\n",
              "      <td>NaN</td>\n",
              "      <td>2710</td>\n",
              "      <td>NaN</td>\n",
              "      <td>CA.5.04</td>\n",
              "      <td>finished</td>\n",
              "      <td>finished</td>\n",
              "      <td>DA.4.37</td>\n",
              "      <td>433</td>\n",
              "      <td>Itel W5504</td>\n",
              "      <td>0</td>\n",
              "      <td>0</td>\n",
              "      <td>NaN</td>\n",
              "    </tr>\n",
              "  </tbody>\n",
              "</table>\n",
              "</div>"
            ],
            "text/plain": [
              "   order_id_new  order_try_id_new  ... overpaid_ride_ticket  fraud_score\n",
              "0            22                22  ...                    0      -1383.0\n",
              "1           618               618  ...                    0          NaN\n",
              "2           657               657  ...                    0       -166.0\n",
              "3           313               313  ...                    1          NaN\n",
              "4          1176              1176  ...                    0          NaN\n",
              "\n",
              "[5 rows x 26 columns]"
            ]
          },
          "metadata": {},
          "execution_count": 34
        }
      ]
    },
    {
      "cell_type": "code",
      "metadata": {
        "colab": {
          "base_uri": "https://localhost:8080/"
        },
        "id": "rWuv_pRHoQEg",
        "outputId": "0eb7dbd6-0392-4401-cb7a-663677bb45f9"
      },
      "source": [
        "print(Billing_df.shape)\n",
        "Billing_df.dtypes"
      ],
      "execution_count": null,
      "outputs": [
        {
          "output_type": "stream",
          "name": "stdout",
          "text": [
            "(4943, 26)\n"
          ]
        },
        {
          "output_type": "execute_result",
          "data": {
            "text/plain": [
              "order_id_new               int64\n",
              "order_try_id_new           int64\n",
              "calc_created              object\n",
              "metered_price            float64\n",
              "upfront_price            float64\n",
              "distance                   int64\n",
              "duration                   int64\n",
              "gps_confidence             int64\n",
              "entered_by                object\n",
              "b_state                   object\n",
              "dest_change_number         int64\n",
              "prediction_price_type     object\n",
              "predicted_distance       float64\n",
              "predicted_duration       float64\n",
              "change_reason_pricing     object\n",
              "ticket_id_new              int64\n",
              "device_token             float64\n",
              "rider_app_version         object\n",
              "order_state               object\n",
              "order_try_state           object\n",
              "driver_app_version        object\n",
              "driver_device_uid_new      int64\n",
              "device_name               object\n",
              "eu_indicator               int64\n",
              "overpaid_ride_ticket       int64\n",
              "fraud_score              float64\n",
              "dtype: object"
            ]
          },
          "metadata": {},
          "execution_count": 35
        }
      ]
    },
    {
      "cell_type": "code",
      "metadata": {
        "id": "OFKrGEuzKcd1"
      },
      "source": [
        ""
      ],
      "execution_count": null,
      "outputs": []
    },
    {
      "cell_type": "markdown",
      "metadata": {
        "id": "VsWfGC19y1yI"
      },
      "source": [
        "# Section B : Expository Data Analysis\n"
      ]
    },
    {
      "cell_type": "markdown",
      "metadata": {
        "id": "B2tUZQJc3kk0"
      },
      "source": [
        "\n",
        "## Data Descriptive Analysis"
      ]
    },
    {
      "cell_type": "code",
      "metadata": {
        "colab": {
          "base_uri": "https://localhost:8080/",
          "height": 881
        },
        "id": "woF2xN1X3k-9",
        "outputId": "45d97e21-885e-47a8-ced3-7e0c6948136a"
      },
      "source": [
        "                                                             #Dataset Information Table for each colum\n",
        "Data_Dict= pd.DataFrame(Billing_df.dtypes)                   #Datatype of each column\n",
        "Data_Dict['Missing Val'] = Billing_df.isnull().sum()         #Num of missing values, add to table\n",
        "Data_Dict['% Missing val'] = round((Data_Dict['Missing Val'].astype(int)/Billing_df.shape[0] * 100),2)\n",
        "Data_Dict['Num of Zeros'] = (Billing_df == 0).sum(0)\n",
        "Data_Dict['% Num of Zeros'] = round((Data_Dict['Num of Zeros'].astype(int)/Billing_df.shape[0] * 100),2)\n",
        "Data_Dict['nUnique Values']= Billing_df.nunique()             #Num of unique entries, add to table\n",
        "Data_Dict=Data_Dict.rename(columns={0:'Datatype'})\n",
        "print('The Table below shows the Data Information of each column ')\n",
        "print('Data Shape: ', Billing_df.shape)\n",
        "\n",
        "Data_Dict"
      ],
      "execution_count": null,
      "outputs": [
        {
          "output_type": "stream",
          "name": "stdout",
          "text": [
            "The Table below shows the Data Information of each column \n",
            "Data Shape:  (4943, 26)\n"
          ]
        },
        {
          "output_type": "execute_result",
          "data": {
            "text/html": [
              "<div>\n",
              "<style scoped>\n",
              "    .dataframe tbody tr th:only-of-type {\n",
              "        vertical-align: middle;\n",
              "    }\n",
              "\n",
              "    .dataframe tbody tr th {\n",
              "        vertical-align: top;\n",
              "    }\n",
              "\n",
              "    .dataframe thead th {\n",
              "        text-align: right;\n",
              "    }\n",
              "</style>\n",
              "<table border=\"1\" class=\"dataframe\">\n",
              "  <thead>\n",
              "    <tr style=\"text-align: right;\">\n",
              "      <th></th>\n",
              "      <th>Datatype</th>\n",
              "      <th>Missing Val</th>\n",
              "      <th>% Missing val</th>\n",
              "      <th>Num of Zeros</th>\n",
              "      <th>% Num of Zeros</th>\n",
              "      <th>nUnique Values</th>\n",
              "    </tr>\n",
              "  </thead>\n",
              "  <tbody>\n",
              "    <tr>\n",
              "      <th>order_id_new</th>\n",
              "      <td>int64</td>\n",
              "      <td>0</td>\n",
              "      <td>0.00</td>\n",
              "      <td>1</td>\n",
              "      <td>0.02</td>\n",
              "      <td>4166</td>\n",
              "    </tr>\n",
              "    <tr>\n",
              "      <th>order_try_id_new</th>\n",
              "      <td>int64</td>\n",
              "      <td>0</td>\n",
              "      <td>0.00</td>\n",
              "      <td>1</td>\n",
              "      <td>0.02</td>\n",
              "      <td>4166</td>\n",
              "    </tr>\n",
              "    <tr>\n",
              "      <th>calc_created</th>\n",
              "      <td>object</td>\n",
              "      <td>0</td>\n",
              "      <td>0.00</td>\n",
              "      <td>0</td>\n",
              "      <td>0.00</td>\n",
              "      <td>4165</td>\n",
              "    </tr>\n",
              "    <tr>\n",
              "      <th>metered_price</th>\n",
              "      <td>float64</td>\n",
              "      <td>20</td>\n",
              "      <td>0.40</td>\n",
              "      <td>0</td>\n",
              "      <td>0.00</td>\n",
              "      <td>2395</td>\n",
              "    </tr>\n",
              "    <tr>\n",
              "      <th>upfront_price</th>\n",
              "      <td>float64</td>\n",
              "      <td>1534</td>\n",
              "      <td>31.03</td>\n",
              "      <td>0</td>\n",
              "      <td>0.00</td>\n",
              "      <td>289</td>\n",
              "    </tr>\n",
              "    <tr>\n",
              "      <th>distance</th>\n",
              "      <td>int64</td>\n",
              "      <td>0</td>\n",
              "      <td>0.00</td>\n",
              "      <td>64</td>\n",
              "      <td>1.29</td>\n",
              "      <td>3661</td>\n",
              "    </tr>\n",
              "    <tr>\n",
              "      <th>duration</th>\n",
              "      <td>int64</td>\n",
              "      <td>0</td>\n",
              "      <td>0.00</td>\n",
              "      <td>25</td>\n",
              "      <td>0.51</td>\n",
              "      <td>2308</td>\n",
              "    </tr>\n",
              "    <tr>\n",
              "      <th>gps_confidence</th>\n",
              "      <td>int64</td>\n",
              "      <td>0</td>\n",
              "      <td>0.00</td>\n",
              "      <td>985</td>\n",
              "      <td>19.93</td>\n",
              "      <td>2</td>\n",
              "    </tr>\n",
              "    <tr>\n",
              "      <th>entered_by</th>\n",
              "      <td>object</td>\n",
              "      <td>0</td>\n",
              "      <td>0.00</td>\n",
              "      <td>0</td>\n",
              "      <td>0.00</td>\n",
              "      <td>3</td>\n",
              "    </tr>\n",
              "    <tr>\n",
              "      <th>b_state</th>\n",
              "      <td>object</td>\n",
              "      <td>0</td>\n",
              "      <td>0.00</td>\n",
              "      <td>0</td>\n",
              "      <td>0.00</td>\n",
              "      <td>1</td>\n",
              "    </tr>\n",
              "    <tr>\n",
              "      <th>dest_change_number</th>\n",
              "      <td>int64</td>\n",
              "      <td>0</td>\n",
              "      <td>0.00</td>\n",
              "      <td>0</td>\n",
              "      <td>0.00</td>\n",
              "      <td>9</td>\n",
              "    </tr>\n",
              "    <tr>\n",
              "      <th>prediction_price_type</th>\n",
              "      <td>object</td>\n",
              "      <td>20</td>\n",
              "      <td>0.40</td>\n",
              "      <td>0</td>\n",
              "      <td>0.00</td>\n",
              "      <td>4</td>\n",
              "    </tr>\n",
              "    <tr>\n",
              "      <th>predicted_distance</th>\n",
              "      <td>float64</td>\n",
              "      <td>20</td>\n",
              "      <td>0.40</td>\n",
              "      <td>7</td>\n",
              "      <td>0.14</td>\n",
              "      <td>3625</td>\n",
              "    </tr>\n",
              "    <tr>\n",
              "      <th>predicted_duration</th>\n",
              "      <td>float64</td>\n",
              "      <td>20</td>\n",
              "      <td>0.40</td>\n",
              "      <td>8</td>\n",
              "      <td>0.16</td>\n",
              "      <td>1790</td>\n",
              "    </tr>\n",
              "    <tr>\n",
              "      <th>change_reason_pricing</th>\n",
              "      <td>object</td>\n",
              "      <td>4645</td>\n",
              "      <td>93.97</td>\n",
              "      <td>0</td>\n",
              "      <td>0.00</td>\n",
              "      <td>3</td>\n",
              "    </tr>\n",
              "    <tr>\n",
              "      <th>ticket_id_new</th>\n",
              "      <td>int64</td>\n",
              "      <td>0</td>\n",
              "      <td>0.00</td>\n",
              "      <td>1</td>\n",
              "      <td>0.02</td>\n",
              "      <td>4943</td>\n",
              "    </tr>\n",
              "    <tr>\n",
              "      <th>device_token</th>\n",
              "      <td>float64</td>\n",
              "      <td>4943</td>\n",
              "      <td>100.00</td>\n",
              "      <td>0</td>\n",
              "      <td>0.00</td>\n",
              "      <td>0</td>\n",
              "    </tr>\n",
              "    <tr>\n",
              "      <th>rider_app_version</th>\n",
              "      <td>object</td>\n",
              "      <td>16</td>\n",
              "      <td>0.32</td>\n",
              "      <td>0</td>\n",
              "      <td>0.00</td>\n",
              "      <td>114</td>\n",
              "    </tr>\n",
              "    <tr>\n",
              "      <th>order_state</th>\n",
              "      <td>object</td>\n",
              "      <td>0</td>\n",
              "      <td>0.00</td>\n",
              "      <td>0</td>\n",
              "      <td>0.00</td>\n",
              "      <td>2</td>\n",
              "    </tr>\n",
              "    <tr>\n",
              "      <th>order_try_state</th>\n",
              "      <td>object</td>\n",
              "      <td>0</td>\n",
              "      <td>0.00</td>\n",
              "      <td>0</td>\n",
              "      <td>0.00</td>\n",
              "      <td>1</td>\n",
              "    </tr>\n",
              "    <tr>\n",
              "      <th>driver_app_version</th>\n",
              "      <td>object</td>\n",
              "      <td>0</td>\n",
              "      <td>0.00</td>\n",
              "      <td>0</td>\n",
              "      <td>0.00</td>\n",
              "      <td>33</td>\n",
              "    </tr>\n",
              "    <tr>\n",
              "      <th>driver_device_uid_new</th>\n",
              "      <td>int64</td>\n",
              "      <td>0</td>\n",
              "      <td>0.00</td>\n",
              "      <td>1</td>\n",
              "      <td>0.02</td>\n",
              "      <td>2159</td>\n",
              "    </tr>\n",
              "    <tr>\n",
              "      <th>device_name</th>\n",
              "      <td>object</td>\n",
              "      <td>0</td>\n",
              "      <td>0.00</td>\n",
              "      <td>0</td>\n",
              "      <td>0.00</td>\n",
              "      <td>497</td>\n",
              "    </tr>\n",
              "    <tr>\n",
              "      <th>eu_indicator</th>\n",
              "      <td>int64</td>\n",
              "      <td>0</td>\n",
              "      <td>0.00</td>\n",
              "      <td>2173</td>\n",
              "      <td>43.96</td>\n",
              "      <td>2</td>\n",
              "    </tr>\n",
              "    <tr>\n",
              "      <th>overpaid_ride_ticket</th>\n",
              "      <td>int64</td>\n",
              "      <td>0</td>\n",
              "      <td>0.00</td>\n",
              "      <td>4606</td>\n",
              "      <td>93.18</td>\n",
              "      <td>2</td>\n",
              "    </tr>\n",
              "    <tr>\n",
              "      <th>fraud_score</th>\n",
              "      <td>float64</td>\n",
              "      <td>2759</td>\n",
              "      <td>55.82</td>\n",
              "      <td>140</td>\n",
              "      <td>2.83</td>\n",
              "      <td>880</td>\n",
              "    </tr>\n",
              "  </tbody>\n",
              "</table>\n",
              "</div>"
            ],
            "text/plain": [
              "                      Datatype  Missing Val  ...  % Num of Zeros  nUnique Values\n",
              "order_id_new             int64            0  ...            0.02            4166\n",
              "order_try_id_new         int64            0  ...            0.02            4166\n",
              "calc_created            object            0  ...            0.00            4165\n",
              "metered_price          float64           20  ...            0.00            2395\n",
              "upfront_price          float64         1534  ...            0.00             289\n",
              "distance                 int64            0  ...            1.29            3661\n",
              "duration                 int64            0  ...            0.51            2308\n",
              "gps_confidence           int64            0  ...           19.93               2\n",
              "entered_by              object            0  ...            0.00               3\n",
              "b_state                 object            0  ...            0.00               1\n",
              "dest_change_number       int64            0  ...            0.00               9\n",
              "prediction_price_type   object           20  ...            0.00               4\n",
              "predicted_distance     float64           20  ...            0.14            3625\n",
              "predicted_duration     float64           20  ...            0.16            1790\n",
              "change_reason_pricing   object         4645  ...            0.00               3\n",
              "ticket_id_new            int64            0  ...            0.02            4943\n",
              "device_token           float64         4943  ...            0.00               0\n",
              "rider_app_version       object           16  ...            0.00             114\n",
              "order_state             object            0  ...            0.00               2\n",
              "order_try_state         object            0  ...            0.00               1\n",
              "driver_app_version      object            0  ...            0.00              33\n",
              "driver_device_uid_new    int64            0  ...            0.02            2159\n",
              "device_name             object            0  ...            0.00             497\n",
              "eu_indicator             int64            0  ...           43.96               2\n",
              "overpaid_ride_ticket     int64            0  ...           93.18               2\n",
              "fraud_score            float64         2759  ...            2.83             880\n",
              "\n",
              "[26 rows x 6 columns]"
            ]
          },
          "metadata": {},
          "execution_count": 36
        }
      ]
    },
    {
      "cell_type": "code",
      "metadata": {
        "id": "F2hssR7i7LT3"
      },
      "source": [
        ""
      ],
      "execution_count": null,
      "outputs": []
    },
    {
      "cell_type": "markdown",
      "metadata": {
        "id": "11L4Ioen92Dw"
      },
      "source": [
        "- From the table above:\n",
        "\n",
        "- 31% of the upfront price data is missing \n",
        "\n",
        "- Features with very high missing value percentages and single unique value will be dropped "
      ]
    },
    {
      "cell_type": "code",
      "metadata": {
        "id": "6uqnSidW8cA1"
      },
      "source": [
        ""
      ],
      "execution_count": null,
      "outputs": []
    },
    {
      "cell_type": "markdown",
      "metadata": {
        "id": "PNFVlqRBCD4a"
      },
      "source": [
        "- Description of Numerical Features "
      ]
    },
    {
      "cell_type": "code",
      "metadata": {
        "colab": {
          "base_uri": "https://localhost:8080/",
          "height": 314
        },
        "id": "j9o6e7XNBSbJ",
        "outputId": "4630d7bf-4faf-441d-d47a-05ef6820da7f"
      },
      "source": [
        "Billing_df.describe()"
      ],
      "execution_count": null,
      "outputs": [
        {
          "output_type": "execute_result",
          "data": {
            "text/html": [
              "<div>\n",
              "<style scoped>\n",
              "    .dataframe tbody tr th:only-of-type {\n",
              "        vertical-align: middle;\n",
              "    }\n",
              "\n",
              "    .dataframe tbody tr th {\n",
              "        vertical-align: top;\n",
              "    }\n",
              "\n",
              "    .dataframe thead th {\n",
              "        text-align: right;\n",
              "    }\n",
              "</style>\n",
              "<table border=\"1\" class=\"dataframe\">\n",
              "  <thead>\n",
              "    <tr style=\"text-align: right;\">\n",
              "      <th></th>\n",
              "      <th>order_id_new</th>\n",
              "      <th>order_try_id_new</th>\n",
              "      <th>metered_price</th>\n",
              "      <th>upfront_price</th>\n",
              "      <th>distance</th>\n",
              "      <th>duration</th>\n",
              "      <th>gps_confidence</th>\n",
              "      <th>dest_change_number</th>\n",
              "      <th>predicted_distance</th>\n",
              "      <th>predicted_duration</th>\n",
              "      <th>ticket_id_new</th>\n",
              "      <th>device_token</th>\n",
              "      <th>driver_device_uid_new</th>\n",
              "      <th>eu_indicator</th>\n",
              "      <th>overpaid_ride_ticket</th>\n",
              "      <th>fraud_score</th>\n",
              "    </tr>\n",
              "  </thead>\n",
              "  <tbody>\n",
              "    <tr>\n",
              "      <th>count</th>\n",
              "      <td>4943.000000</td>\n",
              "      <td>4943.000000</td>\n",
              "      <td>4923.000000</td>\n",
              "      <td>3409.000000</td>\n",
              "      <td>4943.000000</td>\n",
              "      <td>4943.000000</td>\n",
              "      <td>4943.000000</td>\n",
              "      <td>4943.000000</td>\n",
              "      <td>4923.000000</td>\n",
              "      <td>4923.000000</td>\n",
              "      <td>4943.000000</td>\n",
              "      <td>0.0</td>\n",
              "      <td>4943.000000</td>\n",
              "      <td>4943.000000</td>\n",
              "      <td>4943.000000</td>\n",
              "      <td>2184.000000</td>\n",
              "    </tr>\n",
              "    <tr>\n",
              "      <th>mean</th>\n",
              "      <td>2061.074449</td>\n",
              "      <td>2061.074044</td>\n",
              "      <td>7998.471296</td>\n",
              "      <td>4160.095747</td>\n",
              "      <td>9769.223144</td>\n",
              "      <td>1566.230629</td>\n",
              "      <td>0.800728</td>\n",
              "      <td>1.119361</td>\n",
              "      <td>8822.636807</td>\n",
              "      <td>1106.737355</td>\n",
              "      <td>2471.000000</td>\n",
              "      <td>NaN</td>\n",
              "      <td>1093.311349</td>\n",
              "      <td>0.560388</td>\n",
              "      <td>0.068177</td>\n",
              "      <td>-674.046703</td>\n",
              "    </tr>\n",
              "    <tr>\n",
              "      <th>std</th>\n",
              "      <td>1199.298429</td>\n",
              "      <td>1199.299081</td>\n",
              "      <td>15815.850352</td>\n",
              "      <td>17015.711912</td>\n",
              "      <td>10912.426401</td>\n",
              "      <td>1650.329858</td>\n",
              "      <td>0.399493</td>\n",
              "      <td>0.499611</td>\n",
              "      <td>10548.801733</td>\n",
              "      <td>806.098535</td>\n",
              "      <td>1427.065521</td>\n",
              "      <td>NaN</td>\n",
              "      <td>626.408069</td>\n",
              "      <td>0.496390</td>\n",
              "      <td>0.252075</td>\n",
              "      <td>1119.189890</td>\n",
              "    </tr>\n",
              "    <tr>\n",
              "      <th>min</th>\n",
              "      <td>0.000000</td>\n",
              "      <td>0.000000</td>\n",
              "      <td>2.000000</td>\n",
              "      <td>2.000000</td>\n",
              "      <td>0.000000</td>\n",
              "      <td>0.000000</td>\n",
              "      <td>0.000000</td>\n",
              "      <td>1.000000</td>\n",
              "      <td>0.000000</td>\n",
              "      <td>0.000000</td>\n",
              "      <td>0.000000</td>\n",
              "      <td>NaN</td>\n",
              "      <td>0.000000</td>\n",
              "      <td>0.000000</td>\n",
              "      <td>0.000000</td>\n",
              "      <td>-14225.000000</td>\n",
              "    </tr>\n",
              "    <tr>\n",
              "      <th>25%</th>\n",
              "      <td>1020.500000</td>\n",
              "      <td>1020.500000</td>\n",
              "      <td>5.380000</td>\n",
              "      <td>4.200000</td>\n",
              "      <td>3785.500000</td>\n",
              "      <td>604.000000</td>\n",
              "      <td>1.000000</td>\n",
              "      <td>1.000000</td>\n",
              "      <td>4130.500000</td>\n",
              "      <td>597.500000</td>\n",
              "      <td>1235.500000</td>\n",
              "      <td>NaN</td>\n",
              "      <td>561.500000</td>\n",
              "      <td>0.000000</td>\n",
              "      <td>0.000000</td>\n",
              "      <td>-826.500000</td>\n",
              "    </tr>\n",
              "    <tr>\n",
              "      <th>50%</th>\n",
              "      <td>2065.000000</td>\n",
              "      <td>2065.000000</td>\n",
              "      <td>13.350000</td>\n",
              "      <td>6.600000</td>\n",
              "      <td>7140.000000</td>\n",
              "      <td>1054.000000</td>\n",
              "      <td>1.000000</td>\n",
              "      <td>1.000000</td>\n",
              "      <td>6918.000000</td>\n",
              "      <td>939.000000</td>\n",
              "      <td>2471.000000</td>\n",
              "      <td>NaN</td>\n",
              "      <td>1088.000000</td>\n",
              "      <td>1.000000</td>\n",
              "      <td>0.000000</td>\n",
              "      <td>-278.500000</td>\n",
              "    </tr>\n",
              "    <tr>\n",
              "      <th>75%</th>\n",
              "      <td>3090.500000</td>\n",
              "      <td>3090.500000</td>\n",
              "      <td>10991.670000</td>\n",
              "      <td>4000.000000</td>\n",
              "      <td>11953.000000</td>\n",
              "      <td>1929.500000</td>\n",
              "      <td>1.000000</td>\n",
              "      <td>1.000000</td>\n",
              "      <td>10674.000000</td>\n",
              "      <td>1427.000000</td>\n",
              "      <td>3706.500000</td>\n",
              "      <td>NaN</td>\n",
              "      <td>1643.000000</td>\n",
              "      <td>1.000000</td>\n",
              "      <td>0.000000</td>\n",
              "      <td>-64.750000</td>\n",
              "    </tr>\n",
              "    <tr>\n",
              "      <th>max</th>\n",
              "      <td>4165.000000</td>\n",
              "      <td>4165.000000</td>\n",
              "      <td>194483.520000</td>\n",
              "      <td>595000.000000</td>\n",
              "      <td>233190.000000</td>\n",
              "      <td>22402.000000</td>\n",
              "      <td>1.000000</td>\n",
              "      <td>12.000000</td>\n",
              "      <td>353538.000000</td>\n",
              "      <td>20992.000000</td>\n",
              "      <td>4942.000000</td>\n",
              "      <td>NaN</td>\n",
              "      <td>2158.000000</td>\n",
              "      <td>1.000000</td>\n",
              "      <td>1.000000</td>\n",
              "      <td>49.000000</td>\n",
              "    </tr>\n",
              "  </tbody>\n",
              "</table>\n",
              "</div>"
            ],
            "text/plain": [
              "       order_id_new  order_try_id_new  ...  overpaid_ride_ticket   fraud_score\n",
              "count   4943.000000       4943.000000  ...           4943.000000   2184.000000\n",
              "mean    2061.074449       2061.074044  ...              0.068177   -674.046703\n",
              "std     1199.298429       1199.299081  ...              0.252075   1119.189890\n",
              "min        0.000000          0.000000  ...              0.000000 -14225.000000\n",
              "25%     1020.500000       1020.500000  ...              0.000000   -826.500000\n",
              "50%     2065.000000       2065.000000  ...              0.000000   -278.500000\n",
              "75%     3090.500000       3090.500000  ...              0.000000    -64.750000\n",
              "max     4165.000000       4165.000000  ...              1.000000     49.000000\n",
              "\n",
              "[8 rows x 16 columns]"
            ]
          },
          "metadata": {},
          "execution_count": 37
        }
      ]
    },
    {
      "cell_type": "code",
      "metadata": {
        "id": "hSVyoXOBOm6M"
      },
      "source": [
        ""
      ],
      "execution_count": null,
      "outputs": []
    },
    {
      "cell_type": "markdown",
      "metadata": {
        "id": "245u_KzrMYYW"
      },
      "source": [
        "## Data Cleaning"
      ]
    },
    {
      "cell_type": "markdown",
      "metadata": {
        "id": "1Vw__swhcNg9"
      },
      "source": [
        "- Dropping non-informative columns\n",
        "\n",
        "- Columns with: ids, single unique value, high missing values..."
      ]
    },
    {
      "cell_type": "code",
      "metadata": {
        "colab": {
          "base_uri": "https://localhost:8080/",
          "height": 323
        },
        "id": "UmHb-bAWdIKV",
        "outputId": "9e1455ac-b90d-49b7-e1a7-ce014177ee99"
      },
      "source": [
        "             ##Dropping non-informative columns... \n",
        "Billing_df = Billing_df.drop(['order_id_new','order_try_id_new','b_state','ticket_id_new','order_state',\n",
        "                              'order_try_state','device_token','driver_device_uid_new','fraud_score'],axis=1)\n",
        "\n",
        "print(Billing_df.shape)\n",
        "Billing_df.head()"
      ],
      "execution_count": null,
      "outputs": [
        {
          "output_type": "stream",
          "name": "stdout",
          "text": [
            "(4943, 17)\n"
          ]
        },
        {
          "output_type": "execute_result",
          "data": {
            "text/html": [
              "<div>\n",
              "<style scoped>\n",
              "    .dataframe tbody tr th:only-of-type {\n",
              "        vertical-align: middle;\n",
              "    }\n",
              "\n",
              "    .dataframe tbody tr th {\n",
              "        vertical-align: top;\n",
              "    }\n",
              "\n",
              "    .dataframe thead th {\n",
              "        text-align: right;\n",
              "    }\n",
              "</style>\n",
              "<table border=\"1\" class=\"dataframe\">\n",
              "  <thead>\n",
              "    <tr style=\"text-align: right;\">\n",
              "      <th></th>\n",
              "      <th>calc_created</th>\n",
              "      <th>metered_price</th>\n",
              "      <th>upfront_price</th>\n",
              "      <th>distance</th>\n",
              "      <th>duration</th>\n",
              "      <th>gps_confidence</th>\n",
              "      <th>entered_by</th>\n",
              "      <th>dest_change_number</th>\n",
              "      <th>prediction_price_type</th>\n",
              "      <th>predicted_distance</th>\n",
              "      <th>predicted_duration</th>\n",
              "      <th>change_reason_pricing</th>\n",
              "      <th>rider_app_version</th>\n",
              "      <th>driver_app_version</th>\n",
              "      <th>device_name</th>\n",
              "      <th>eu_indicator</th>\n",
              "      <th>overpaid_ride_ticket</th>\n",
              "    </tr>\n",
              "  </thead>\n",
              "  <tbody>\n",
              "    <tr>\n",
              "      <th>0</th>\n",
              "      <td>2020-02-02 3:37:31</td>\n",
              "      <td>4.04</td>\n",
              "      <td>10.0</td>\n",
              "      <td>2839</td>\n",
              "      <td>700</td>\n",
              "      <td>1</td>\n",
              "      <td>client</td>\n",
              "      <td>1</td>\n",
              "      <td>upfront</td>\n",
              "      <td>13384.0</td>\n",
              "      <td>1091.0</td>\n",
              "      <td>NaN</td>\n",
              "      <td>CI.4.17</td>\n",
              "      <td>DA.4.37</td>\n",
              "      <td>Xiaomi Redmi 6</td>\n",
              "      <td>1</td>\n",
              "      <td>0</td>\n",
              "    </tr>\n",
              "    <tr>\n",
              "      <th>1</th>\n",
              "      <td>2020-02-08 2:26:19</td>\n",
              "      <td>6.09</td>\n",
              "      <td>3.6</td>\n",
              "      <td>5698</td>\n",
              "      <td>493</td>\n",
              "      <td>1</td>\n",
              "      <td>client</td>\n",
              "      <td>1</td>\n",
              "      <td>upfront</td>\n",
              "      <td>2286.0</td>\n",
              "      <td>360.0</td>\n",
              "      <td>NaN</td>\n",
              "      <td>CA.5.43</td>\n",
              "      <td>DA.4.39</td>\n",
              "      <td>Samsung SM-G965F</td>\n",
              "      <td>1</td>\n",
              "      <td>0</td>\n",
              "    </tr>\n",
              "    <tr>\n",
              "      <th>2</th>\n",
              "      <td>2020-02-08 11:50:35</td>\n",
              "      <td>4.32</td>\n",
              "      <td>3.5</td>\n",
              "      <td>4426</td>\n",
              "      <td>695</td>\n",
              "      <td>1</td>\n",
              "      <td>client</td>\n",
              "      <td>1</td>\n",
              "      <td>upfront</td>\n",
              "      <td>4101.0</td>\n",
              "      <td>433.0</td>\n",
              "      <td>NaN</td>\n",
              "      <td>CA.5.43</td>\n",
              "      <td>DA.4.37</td>\n",
              "      <td>Samsung SM-A530F</td>\n",
              "      <td>1</td>\n",
              "      <td>0</td>\n",
              "    </tr>\n",
              "    <tr>\n",
              "      <th>3</th>\n",
              "      <td>2020-02-05 6:34:54</td>\n",
              "      <td>72871.72</td>\n",
              "      <td>NaN</td>\n",
              "      <td>49748</td>\n",
              "      <td>1400</td>\n",
              "      <td>0</td>\n",
              "      <td>client</td>\n",
              "      <td>2</td>\n",
              "      <td>upfront_destination_changed</td>\n",
              "      <td>3017.0</td>\n",
              "      <td>600.0</td>\n",
              "      <td>client_destination_changed</td>\n",
              "      <td>CA.5.23</td>\n",
              "      <td>DA.4.37</td>\n",
              "      <td>TECNO-Y6</td>\n",
              "      <td>0</td>\n",
              "      <td>1</td>\n",
              "    </tr>\n",
              "    <tr>\n",
              "      <th>4</th>\n",
              "      <td>2020-02-13 17:31:24</td>\n",
              "      <td>20032.50</td>\n",
              "      <td>19500.0</td>\n",
              "      <td>10273</td>\n",
              "      <td>5067</td>\n",
              "      <td>1</td>\n",
              "      <td>client</td>\n",
              "      <td>1</td>\n",
              "      <td>upfront</td>\n",
              "      <td>14236.0</td>\n",
              "      <td>2778.0</td>\n",
              "      <td>NaN</td>\n",
              "      <td>CA.5.04</td>\n",
              "      <td>DA.4.37</td>\n",
              "      <td>Itel W5504</td>\n",
              "      <td>0</td>\n",
              "      <td>0</td>\n",
              "    </tr>\n",
              "  </tbody>\n",
              "</table>\n",
              "</div>"
            ],
            "text/plain": [
              "          calc_created  metered_price  ...  eu_indicator  overpaid_ride_ticket\n",
              "0   2020-02-02 3:37:31           4.04  ...             1                     0\n",
              "1   2020-02-08 2:26:19           6.09  ...             1                     0\n",
              "2  2020-02-08 11:50:35           4.32  ...             1                     0\n",
              "3   2020-02-05 6:34:54       72871.72  ...             0                     1\n",
              "4  2020-02-13 17:31:24       20032.50  ...             0                     0\n",
              "\n",
              "[5 rows x 17 columns]"
            ]
          },
          "metadata": {},
          "execution_count": 38
        }
      ]
    },
    {
      "cell_type": "code",
      "metadata": {
        "colab": {
          "base_uri": "https://localhost:8080/"
        },
        "id": "dBBVnzQacZEu",
        "outputId": "79216453-485d-4847-9856-52a33901f57f"
      },
      "source": [
        "print(len(Billing_df.columns))\n",
        "Billing_df.columns"
      ],
      "execution_count": null,
      "outputs": [
        {
          "output_type": "stream",
          "name": "stdout",
          "text": [
            "17\n"
          ]
        },
        {
          "output_type": "execute_result",
          "data": {
            "text/plain": [
              "Index(['calc_created', 'metered_price', 'upfront_price', 'distance',\n",
              "       'duration', 'gps_confidence', 'entered_by', 'dest_change_number',\n",
              "       'prediction_price_type', 'predicted_distance', 'predicted_duration',\n",
              "       'change_reason_pricing', 'rider_app_version', 'driver_app_version',\n",
              "       'device_name', 'eu_indicator', 'overpaid_ride_ticket'],\n",
              "      dtype='object')"
            ]
          },
          "metadata": {},
          "execution_count": 39
        }
      ]
    },
    {
      "cell_type": "code",
      "metadata": {
        "id": "tKQF81FxK7Hp"
      },
      "source": [
        ""
      ],
      "execution_count": null,
      "outputs": []
    },
    {
      "cell_type": "markdown",
      "metadata": {
        "id": "W--EHjSYH3TT"
      },
      "source": [
        "- Handling Missing Values"
      ]
    },
    {
      "cell_type": "code",
      "metadata": {
        "id": "km54ngb7KAc3"
      },
      "source": [
        "                                             #get data Where metered_price \"is not null\" (20 rows ignored)\n",
        "Billing_DF = Billing_df[Billing_df['metered_price'].notna()]      \n",
        "                                             #replace Nan in \"upfront_price\" with mean values\n",
        "Billing_DF['upfront_price']= Billing_DF['upfront_price'].fillna(Billing_DF['upfront_price'].mean())\n",
        "\n",
        "                                             #replace Nan in \"change_reason_pricing\" with \"No Effect\"\n",
        "                                             #Empty entries means changes does not affect prediction\n",
        "Billing_DF['change_reason_pricing'] = Billing_DF['change_reason_pricing'].replace(np.nan, 'No Effect', regex=True)"
      ],
      "execution_count": null,
      "outputs": []
    },
    {
      "cell_type": "code",
      "metadata": {
        "colab": {
          "base_uri": "https://localhost:8080/"
        },
        "id": "IjMnAyHVH2t0",
        "outputId": "57803306-2529-476e-8345-5d0a829b9b37"
      },
      "source": [
        "                  #checking if missing values is properly handled\n",
        "print(Billing_DF.shape)\n",
        "Billing_DF.isnull().sum()"
      ],
      "execution_count": null,
      "outputs": [
        {
          "output_type": "stream",
          "name": "stdout",
          "text": [
            "(4923, 17)\n"
          ]
        },
        {
          "output_type": "execute_result",
          "data": {
            "text/plain": [
              "calc_created             0\n",
              "metered_price            0\n",
              "upfront_price            0\n",
              "distance                 0\n",
              "duration                 0\n",
              "gps_confidence           0\n",
              "entered_by               0\n",
              "dest_change_number       0\n",
              "prediction_price_type    0\n",
              "predicted_distance       0\n",
              "predicted_duration       0\n",
              "change_reason_pricing    0\n",
              "rider_app_version        0\n",
              "driver_app_version       0\n",
              "device_name              0\n",
              "eu_indicator             0\n",
              "overpaid_ride_ticket     0\n",
              "dtype: int64"
            ]
          },
          "metadata": {},
          "execution_count": 44
        }
      ]
    },
    {
      "cell_type": "code",
      "metadata": {
        "id": "vbZgnGXQCDV_"
      },
      "source": [
        ""
      ],
      "execution_count": null,
      "outputs": []
    },
    {
      "cell_type": "code",
      "metadata": {
        "id": "fVeuwSOoCNZ4"
      },
      "source": [
        ""
      ],
      "execution_count": null,
      "outputs": []
    },
    {
      "cell_type": "code",
      "metadata": {
        "id": "-99CTO0GcM0j"
      },
      "source": [
        ""
      ],
      "execution_count": null,
      "outputs": []
    },
    {
      "cell_type": "markdown",
      "metadata": {
        "id": "BqQiBdx9DXxa"
      },
      "source": [
        "## Feature Engineering \n",
        "\n",
        "- Creating new columns: \n",
        "\n",
        "-  **1: Percentage price difference** :\n",
        "  - between the \"metered price\" and the \"upfront price\"\n",
        "\n",
        "\n",
        "-  **2: Hourbased Time** :\n",
        "  - The hour within which the order was made"
      ]
    },
    {
      "cell_type": "code",
      "metadata": {
        "id": "7TeFG0w1WDde"
      },
      "source": [
        ""
      ],
      "execution_count": null,
      "outputs": []
    },
    {
      "cell_type": "markdown",
      "metadata": {
        "id": "vuRjss7QQu89"
      },
      "source": [
        " **1: Percentage price difference** :"
      ]
    },
    {
      "cell_type": "code",
      "metadata": {
        "colab": {
          "base_uri": "https://localhost:8080/",
          "height": 414
        },
        "id": "xuNhjaoaitse",
        "outputId": "a6c65de8-6ba7-4508-829d-0d7b0d1857da"
      },
      "source": [
        "                              ##Adding a new column for the \"perentage difference in prices...\"\n",
        "Billing_DF['%_Price_Diff'] = (abs(Billing_DF['metered_price'] - Billing_DF['upfront_price'])/Billing_DF['metered_price']) *100  \n",
        "Billing_DF = Billing_DF[['calc_created','metered_price','upfront_price','%_Price_Diff','distance','duration','gps_confidence',\n",
        "            'entered_by', 'dest_change_number','prediction_price_type', 'predicted_distance', 'predicted_duration',\n",
        "            'change_reason_pricing', 'rider_app_version','driver_app_version','device_name', 'eu_indicator',\n",
        "            'overpaid_ride_ticket']]\n",
        "\n",
        "Billing_DF[['calc_created','metered_price','upfront_price','%_Price_Diff','distance','duration','gps_confidence']]        "
      ],
      "execution_count": null,
      "outputs": [
        {
          "output_type": "execute_result",
          "data": {
            "text/html": [
              "<div>\n",
              "<style scoped>\n",
              "    .dataframe tbody tr th:only-of-type {\n",
              "        vertical-align: middle;\n",
              "    }\n",
              "\n",
              "    .dataframe tbody tr th {\n",
              "        vertical-align: top;\n",
              "    }\n",
              "\n",
              "    .dataframe thead th {\n",
              "        text-align: right;\n",
              "    }\n",
              "</style>\n",
              "<table border=\"1\" class=\"dataframe\">\n",
              "  <thead>\n",
              "    <tr style=\"text-align: right;\">\n",
              "      <th></th>\n",
              "      <th>calc_created</th>\n",
              "      <th>metered_price</th>\n",
              "      <th>upfront_price</th>\n",
              "      <th>%_Price_Diff</th>\n",
              "      <th>distance</th>\n",
              "      <th>duration</th>\n",
              "      <th>gps_confidence</th>\n",
              "    </tr>\n",
              "  </thead>\n",
              "  <tbody>\n",
              "    <tr>\n",
              "      <th>0</th>\n",
              "      <td>2020-02-02 3:37:31</td>\n",
              "      <td>4.04</td>\n",
              "      <td>10.000000</td>\n",
              "      <td>147.524752</td>\n",
              "      <td>2839</td>\n",
              "      <td>700</td>\n",
              "      <td>1</td>\n",
              "    </tr>\n",
              "    <tr>\n",
              "      <th>1</th>\n",
              "      <td>2020-02-08 2:26:19</td>\n",
              "      <td>6.09</td>\n",
              "      <td>3.600000</td>\n",
              "      <td>40.886700</td>\n",
              "      <td>5698</td>\n",
              "      <td>493</td>\n",
              "      <td>1</td>\n",
              "    </tr>\n",
              "    <tr>\n",
              "      <th>2</th>\n",
              "      <td>2020-02-08 11:50:35</td>\n",
              "      <td>4.32</td>\n",
              "      <td>3.500000</td>\n",
              "      <td>18.981481</td>\n",
              "      <td>4426</td>\n",
              "      <td>695</td>\n",
              "      <td>1</td>\n",
              "    </tr>\n",
              "    <tr>\n",
              "      <th>3</th>\n",
              "      <td>2020-02-05 6:34:54</td>\n",
              "      <td>72871.72</td>\n",
              "      <td>4160.095747</td>\n",
              "      <td>94.291207</td>\n",
              "      <td>49748</td>\n",
              "      <td>1400</td>\n",
              "      <td>0</td>\n",
              "    </tr>\n",
              "    <tr>\n",
              "      <th>4</th>\n",
              "      <td>2020-02-13 17:31:24</td>\n",
              "      <td>20032.50</td>\n",
              "      <td>19500.000000</td>\n",
              "      <td>2.658180</td>\n",
              "      <td>10273</td>\n",
              "      <td>5067</td>\n",
              "      <td>1</td>\n",
              "    </tr>\n",
              "    <tr>\n",
              "      <th>...</th>\n",
              "      <td>...</td>\n",
              "      <td>...</td>\n",
              "      <td>...</td>\n",
              "      <td>...</td>\n",
              "      <td>...</td>\n",
              "      <td>...</td>\n",
              "      <td>...</td>\n",
              "    </tr>\n",
              "    <tr>\n",
              "      <th>4938</th>\n",
              "      <td>2020-03-07 17:42:34</td>\n",
              "      <td>10.89</td>\n",
              "      <td>13.700000</td>\n",
              "      <td>25.803489</td>\n",
              "      <td>15672</td>\n",
              "      <td>1449</td>\n",
              "      <td>1</td>\n",
              "    </tr>\n",
              "    <tr>\n",
              "      <th>4939</th>\n",
              "      <td>2020-02-22 18:15:45</td>\n",
              "      <td>8789.28</td>\n",
              "      <td>4160.095747</td>\n",
              "      <td>52.668526</td>\n",
              "      <td>5712</td>\n",
              "      <td>1173</td>\n",
              "      <td>0</td>\n",
              "    </tr>\n",
              "    <tr>\n",
              "      <th>4940</th>\n",
              "      <td>2020-03-12 23:08:31</td>\n",
              "      <td>7.50</td>\n",
              "      <td>7.400000</td>\n",
              "      <td>1.333333</td>\n",
              "      <td>5303</td>\n",
              "      <td>486</td>\n",
              "      <td>1</td>\n",
              "    </tr>\n",
              "    <tr>\n",
              "      <th>4941</th>\n",
              "      <td>2020-03-08 20:15:04</td>\n",
              "      <td>3.06</td>\n",
              "      <td>8.100000</td>\n",
              "      <td>164.705882</td>\n",
              "      <td>3528</td>\n",
              "      <td>338</td>\n",
              "      <td>1</td>\n",
              "    </tr>\n",
              "    <tr>\n",
              "      <th>4942</th>\n",
              "      <td>2020-02-09 7:21:22</td>\n",
              "      <td>29244.10</td>\n",
              "      <td>16000.000000</td>\n",
              "      <td>45.288109</td>\n",
              "      <td>17825</td>\n",
              "      <td>4544</td>\n",
              "      <td>1</td>\n",
              "    </tr>\n",
              "  </tbody>\n",
              "</table>\n",
              "<p>4923 rows × 7 columns</p>\n",
              "</div>"
            ],
            "text/plain": [
              "             calc_created  metered_price  ...  duration  gps_confidence\n",
              "0      2020-02-02 3:37:31           4.04  ...       700               1\n",
              "1      2020-02-08 2:26:19           6.09  ...       493               1\n",
              "2     2020-02-08 11:50:35           4.32  ...       695               1\n",
              "3      2020-02-05 6:34:54       72871.72  ...      1400               0\n",
              "4     2020-02-13 17:31:24       20032.50  ...      5067               1\n",
              "...                   ...            ...  ...       ...             ...\n",
              "4938  2020-03-07 17:42:34          10.89  ...      1449               1\n",
              "4939  2020-02-22 18:15:45        8789.28  ...      1173               0\n",
              "4940  2020-03-12 23:08:31           7.50  ...       486               1\n",
              "4941  2020-03-08 20:15:04           3.06  ...       338               1\n",
              "4942   2020-02-09 7:21:22       29244.10  ...      4544               1\n",
              "\n",
              "[4923 rows x 7 columns]"
            ]
          },
          "metadata": {},
          "execution_count": 46
        }
      ]
    },
    {
      "cell_type": "code",
      "metadata": {
        "colab": {
          "base_uri": "https://localhost:8080/"
        },
        "id": "4MpyVaCpREi_",
        "outputId": "8db83cb5-2c8b-481d-c361-29d166cff048"
      },
      "source": [
        "print(len(Billing_DF.columns))\n",
        "Billing_DF.columns"
      ],
      "execution_count": null,
      "outputs": [
        {
          "output_type": "stream",
          "name": "stdout",
          "text": [
            "18\n"
          ]
        },
        {
          "output_type": "execute_result",
          "data": {
            "text/plain": [
              "Index(['calc_created', 'metered_price', 'upfront_price', '%_Price_Diff',\n",
              "       'distance', 'duration', 'gps_confidence', 'entered_by',\n",
              "       'dest_change_number', 'prediction_price_type', 'predicted_distance',\n",
              "       'predicted_duration', 'change_reason_pricing', 'rider_app_version',\n",
              "       'driver_app_version', 'device_name', 'eu_indicator',\n",
              "       'overpaid_ride_ticket'],\n",
              "      dtype='object')"
            ]
          },
          "metadata": {},
          "execution_count": 47
        }
      ]
    },
    {
      "cell_type": "code",
      "metadata": {
        "id": "cGj6qpmvFDy5"
      },
      "source": [
        ""
      ],
      "execution_count": null,
      "outputs": []
    },
    {
      "cell_type": "markdown",
      "metadata": {
        "id": "zTiIxYgPXKaB"
      },
      "source": [
        "-  **2: Hourbased Time** :"
      ]
    },
    {
      "cell_type": "code",
      "metadata": {
        "id": "ney-vN1iYWIY"
      },
      "source": [
        ""
      ],
      "execution_count": null,
      "outputs": []
    },
    {
      "cell_type": "code",
      "metadata": {
        "colab": {
          "base_uri": "https://localhost:8080/",
          "height": 141
        },
        "id": "UdvECPdCS2OX",
        "outputId": "548702d1-d3e2-4fbc-f7a1-96258b08d3f9"
      },
      "source": [
        "                          #Convert date to timestamp\n",
        "Billing_DF['Timestamp'] = pd.to_datetime(Billing_DF['calc_created'])\n",
        "Billing_DF = Billing_DF[['Timestamp','metered_price','upfront_price','%_Price_Diff','distance','duration','gps_confidence',\n",
        "            'entered_by', 'dest_change_number','prediction_price_type', 'predicted_distance', 'predicted_duration',\n",
        "            'change_reason_pricing', 'rider_app_version','driver_app_version', 'device_name','eu_indicator',\n",
        "            'overpaid_ride_ticket']]\n",
        "\n",
        "Billing_DF[['Timestamp','metered_price','upfront_price','%_Price_Diff','distance','predicted_distance',\n",
        "            'duration','predicted_duration','gps_confidence']].head(3)        \n",
        "\n"
      ],
      "execution_count": null,
      "outputs": [
        {
          "output_type": "execute_result",
          "data": {
            "text/html": [
              "<div>\n",
              "<style scoped>\n",
              "    .dataframe tbody tr th:only-of-type {\n",
              "        vertical-align: middle;\n",
              "    }\n",
              "\n",
              "    .dataframe tbody tr th {\n",
              "        vertical-align: top;\n",
              "    }\n",
              "\n",
              "    .dataframe thead th {\n",
              "        text-align: right;\n",
              "    }\n",
              "</style>\n",
              "<table border=\"1\" class=\"dataframe\">\n",
              "  <thead>\n",
              "    <tr style=\"text-align: right;\">\n",
              "      <th></th>\n",
              "      <th>Timestamp</th>\n",
              "      <th>metered_price</th>\n",
              "      <th>upfront_price</th>\n",
              "      <th>%_Price_Diff</th>\n",
              "      <th>distance</th>\n",
              "      <th>predicted_distance</th>\n",
              "      <th>duration</th>\n",
              "      <th>predicted_duration</th>\n",
              "      <th>gps_confidence</th>\n",
              "    </tr>\n",
              "  </thead>\n",
              "  <tbody>\n",
              "    <tr>\n",
              "      <th>0</th>\n",
              "      <td>2020-02-02 03:37:31</td>\n",
              "      <td>4.04</td>\n",
              "      <td>10.0</td>\n",
              "      <td>147.524752</td>\n",
              "      <td>2839</td>\n",
              "      <td>13384.0</td>\n",
              "      <td>700</td>\n",
              "      <td>1091.0</td>\n",
              "      <td>1</td>\n",
              "    </tr>\n",
              "    <tr>\n",
              "      <th>1</th>\n",
              "      <td>2020-02-08 02:26:19</td>\n",
              "      <td>6.09</td>\n",
              "      <td>3.6</td>\n",
              "      <td>40.886700</td>\n",
              "      <td>5698</td>\n",
              "      <td>2286.0</td>\n",
              "      <td>493</td>\n",
              "      <td>360.0</td>\n",
              "      <td>1</td>\n",
              "    </tr>\n",
              "    <tr>\n",
              "      <th>2</th>\n",
              "      <td>2020-02-08 11:50:35</td>\n",
              "      <td>4.32</td>\n",
              "      <td>3.5</td>\n",
              "      <td>18.981481</td>\n",
              "      <td>4426</td>\n",
              "      <td>4101.0</td>\n",
              "      <td>695</td>\n",
              "      <td>433.0</td>\n",
              "      <td>1</td>\n",
              "    </tr>\n",
              "  </tbody>\n",
              "</table>\n",
              "</div>"
            ],
            "text/plain": [
              "            Timestamp  metered_price  ...  predicted_duration  gps_confidence\n",
              "0 2020-02-02 03:37:31           4.04  ...              1091.0               1\n",
              "1 2020-02-08 02:26:19           6.09  ...               360.0               1\n",
              "2 2020-02-08 11:50:35           4.32  ...               433.0               1\n",
              "\n",
              "[3 rows x 9 columns]"
            ]
          },
          "metadata": {},
          "execution_count": 49
        }
      ]
    },
    {
      "cell_type": "code",
      "metadata": {
        "colab": {
          "base_uri": "https://localhost:8080/",
          "height": 388
        },
        "id": "_ml1H_U-ZKNy",
        "outputId": "3e48ed4e-a56b-4387-ac2b-7d9a6f84740c"
      },
      "source": [
        "                      ##Convert date to Weekly Based: Timestamp::\n",
        "def get_hour(r):\n",
        "  r = dt_dt.strftime(r, '%H')\n",
        "  return r\n",
        "\n",
        "Billing_DF['Hourbased_Time'] = Billing_DF['Timestamp'].apply(get_hour)\n",
        "Billing_DF[['Timestamp','Hourbased_Time','metered_price','upfront_price','%_Price_Diff','distance','predicted_distance',\n",
        "            'duration','predicted_duration','gps_confidence']].head()        "
      ],
      "execution_count": null,
      "outputs": [
        {
          "output_type": "execute_result",
          "data": {
            "text/html": [
              "<div>\n",
              "<style scoped>\n",
              "    .dataframe tbody tr th:only-of-type {\n",
              "        vertical-align: middle;\n",
              "    }\n",
              "\n",
              "    .dataframe tbody tr th {\n",
              "        vertical-align: top;\n",
              "    }\n",
              "\n",
              "    .dataframe thead th {\n",
              "        text-align: right;\n",
              "    }\n",
              "</style>\n",
              "<table border=\"1\" class=\"dataframe\">\n",
              "  <thead>\n",
              "    <tr style=\"text-align: right;\">\n",
              "      <th></th>\n",
              "      <th>Timestamp</th>\n",
              "      <th>Hourbased_Time</th>\n",
              "      <th>metered_price</th>\n",
              "      <th>upfront_price</th>\n",
              "      <th>%_Price_Diff</th>\n",
              "      <th>distance</th>\n",
              "      <th>predicted_distance</th>\n",
              "      <th>duration</th>\n",
              "      <th>predicted_duration</th>\n",
              "      <th>gps_confidence</th>\n",
              "    </tr>\n",
              "  </thead>\n",
              "  <tbody>\n",
              "    <tr>\n",
              "      <th>0</th>\n",
              "      <td>2020-02-02 03:37:31</td>\n",
              "      <td>03</td>\n",
              "      <td>4.04</td>\n",
              "      <td>10.000000</td>\n",
              "      <td>147.524752</td>\n",
              "      <td>2839</td>\n",
              "      <td>13384.0</td>\n",
              "      <td>700</td>\n",
              "      <td>1091.0</td>\n",
              "      <td>1</td>\n",
              "    </tr>\n",
              "    <tr>\n",
              "      <th>1</th>\n",
              "      <td>2020-02-08 02:26:19</td>\n",
              "      <td>02</td>\n",
              "      <td>6.09</td>\n",
              "      <td>3.600000</td>\n",
              "      <td>40.886700</td>\n",
              "      <td>5698</td>\n",
              "      <td>2286.0</td>\n",
              "      <td>493</td>\n",
              "      <td>360.0</td>\n",
              "      <td>1</td>\n",
              "    </tr>\n",
              "    <tr>\n",
              "      <th>2</th>\n",
              "      <td>2020-02-08 11:50:35</td>\n",
              "      <td>11</td>\n",
              "      <td>4.32</td>\n",
              "      <td>3.500000</td>\n",
              "      <td>18.981481</td>\n",
              "      <td>4426</td>\n",
              "      <td>4101.0</td>\n",
              "      <td>695</td>\n",
              "      <td>433.0</td>\n",
              "      <td>1</td>\n",
              "    </tr>\n",
              "    <tr>\n",
              "      <th>3</th>\n",
              "      <td>2020-02-05 06:34:54</td>\n",
              "      <td>06</td>\n",
              "      <td>72871.72</td>\n",
              "      <td>4160.095747</td>\n",
              "      <td>94.291207</td>\n",
              "      <td>49748</td>\n",
              "      <td>3017.0</td>\n",
              "      <td>1400</td>\n",
              "      <td>600.0</td>\n",
              "      <td>0</td>\n",
              "    </tr>\n",
              "    <tr>\n",
              "      <th>4</th>\n",
              "      <td>2020-02-13 17:31:24</td>\n",
              "      <td>17</td>\n",
              "      <td>20032.50</td>\n",
              "      <td>19500.000000</td>\n",
              "      <td>2.658180</td>\n",
              "      <td>10273</td>\n",
              "      <td>14236.0</td>\n",
              "      <td>5067</td>\n",
              "      <td>2778.0</td>\n",
              "      <td>1</td>\n",
              "    </tr>\n",
              "  </tbody>\n",
              "</table>\n",
              "</div>"
            ],
            "text/plain": [
              "            Timestamp Hourbased_Time  ...  predicted_duration  gps_confidence\n",
              "0 2020-02-02 03:37:31             03  ...              1091.0               1\n",
              "1 2020-02-08 02:26:19             02  ...               360.0               1\n",
              "2 2020-02-08 11:50:35             11  ...               433.0               1\n",
              "3 2020-02-05 06:34:54             06  ...               600.0               0\n",
              "4 2020-02-13 17:31:24             17  ...              2778.0               1\n",
              "\n",
              "[5 rows x 10 columns]"
            ]
          },
          "metadata": {},
          "execution_count": 50
        }
      ]
    },
    {
      "cell_type": "code",
      "metadata": {
        "colab": {
          "base_uri": "https://localhost:8080/"
        },
        "id": "x1-9zyroS2IA",
        "outputId": "8347856e-ce4f-4dc0-80a4-144dcf0d7f9b"
      },
      "source": [
        "print(\"Min Timestamp: \", Billing_DF['Timestamp'].min())\n",
        "print(\"Max Timestamp: \", Billing_DF['Timestamp'].max())"
      ],
      "execution_count": null,
      "outputs": [
        {
          "output_type": "stream",
          "name": "stdout",
          "text": [
            "Min Timestamp:  2020-02-02 00:01:16\n",
            "Max Timestamp:  2020-03-13 23:52:07\n"
          ]
        }
      ]
    },
    {
      "cell_type": "code",
      "metadata": {
        "id": "P8cbi5IYZUl9"
      },
      "source": [
        ""
      ],
      "execution_count": null,
      "outputs": []
    },
    {
      "cell_type": "code",
      "metadata": {
        "id": "FKe6Pz6uS11b"
      },
      "source": [
        ""
      ],
      "execution_count": null,
      "outputs": []
    },
    {
      "cell_type": "markdown",
      "metadata": {
        "id": "z7oBKO_FdToU"
      },
      "source": [
        " ## Data Splitting"
      ]
    },
    {
      "cell_type": "code",
      "metadata": {
        "id": "l2Y40FOhDVYo"
      },
      "source": [
        ""
      ],
      "execution_count": null,
      "outputs": []
    },
    {
      "cell_type": "markdown",
      "metadata": {
        "id": "jyqUHhdJa3D9"
      },
      "source": [
        "- Splitting Data into two(2) catergories based on **%_Price_Diff** \n",
        "\n",
        "  - Rides whose *%_Price_Diff* falls within the 20% difference are considered to be in the \"**SamePrice_DF** \"\n",
        "\n",
        "  - Rides whose *%_Price_Diff* are more than the 20% difference are considered to be in the \"**DiffPrice_DF** \""
      ]
    },
    {
      "cell_type": "code",
      "metadata": {
        "colab": {
          "base_uri": "https://localhost:8080/",
          "height": 406
        },
        "id": "eABlVkfiHgzU",
        "outputId": "129fd028-ec60-4ba9-bfc7-dd37ca76b3e4"
      },
      "source": [
        "Same_PriceDF = Billing_DF[Billing_DF['%_Price_Diff'] <= 20.00]\n",
        "print(Same_PriceDF.shape)\n",
        "Same_PriceDF.head()"
      ],
      "execution_count": null,
      "outputs": [
        {
          "output_type": "stream",
          "name": "stdout",
          "text": [
            "(2071, 19)\n"
          ]
        },
        {
          "output_type": "execute_result",
          "data": {
            "text/html": [
              "<div>\n",
              "<style scoped>\n",
              "    .dataframe tbody tr th:only-of-type {\n",
              "        vertical-align: middle;\n",
              "    }\n",
              "\n",
              "    .dataframe tbody tr th {\n",
              "        vertical-align: top;\n",
              "    }\n",
              "\n",
              "    .dataframe thead th {\n",
              "        text-align: right;\n",
              "    }\n",
              "</style>\n",
              "<table border=\"1\" class=\"dataframe\">\n",
              "  <thead>\n",
              "    <tr style=\"text-align: right;\">\n",
              "      <th></th>\n",
              "      <th>Timestamp</th>\n",
              "      <th>metered_price</th>\n",
              "      <th>upfront_price</th>\n",
              "      <th>%_Price_Diff</th>\n",
              "      <th>distance</th>\n",
              "      <th>duration</th>\n",
              "      <th>gps_confidence</th>\n",
              "      <th>entered_by</th>\n",
              "      <th>dest_change_number</th>\n",
              "      <th>prediction_price_type</th>\n",
              "      <th>predicted_distance</th>\n",
              "      <th>predicted_duration</th>\n",
              "      <th>change_reason_pricing</th>\n",
              "      <th>rider_app_version</th>\n",
              "      <th>driver_app_version</th>\n",
              "      <th>device_name</th>\n",
              "      <th>eu_indicator</th>\n",
              "      <th>overpaid_ride_ticket</th>\n",
              "      <th>Hourbased_Time</th>\n",
              "    </tr>\n",
              "  </thead>\n",
              "  <tbody>\n",
              "    <tr>\n",
              "      <th>2</th>\n",
              "      <td>2020-02-08 11:50:35</td>\n",
              "      <td>4.32</td>\n",
              "      <td>3.5</td>\n",
              "      <td>18.981481</td>\n",
              "      <td>4426</td>\n",
              "      <td>695</td>\n",
              "      <td>1</td>\n",
              "      <td>client</td>\n",
              "      <td>1</td>\n",
              "      <td>upfront</td>\n",
              "      <td>4101.0</td>\n",
              "      <td>433.0</td>\n",
              "      <td>No Effect</td>\n",
              "      <td>CA.5.43</td>\n",
              "      <td>DA.4.37</td>\n",
              "      <td>Samsung SM-A530F</td>\n",
              "      <td>1</td>\n",
              "      <td>0</td>\n",
              "      <td>11</td>\n",
              "    </tr>\n",
              "    <tr>\n",
              "      <th>4</th>\n",
              "      <td>2020-02-13 17:31:24</td>\n",
              "      <td>20032.50</td>\n",
              "      <td>19500.0</td>\n",
              "      <td>2.658180</td>\n",
              "      <td>10273</td>\n",
              "      <td>5067</td>\n",
              "      <td>1</td>\n",
              "      <td>client</td>\n",
              "      <td>1</td>\n",
              "      <td>upfront</td>\n",
              "      <td>14236.0</td>\n",
              "      <td>2778.0</td>\n",
              "      <td>No Effect</td>\n",
              "      <td>CA.5.04</td>\n",
              "      <td>DA.4.37</td>\n",
              "      <td>Itel W5504</td>\n",
              "      <td>0</td>\n",
              "      <td>0</td>\n",
              "      <td>17</td>\n",
              "    </tr>\n",
              "    <tr>\n",
              "      <th>5</th>\n",
              "      <td>2020-02-14 01:27:01</td>\n",
              "      <td>6.11</td>\n",
              "      <td>6.3</td>\n",
              "      <td>3.109656</td>\n",
              "      <td>4924</td>\n",
              "      <td>513</td>\n",
              "      <td>1</td>\n",
              "      <td>client</td>\n",
              "      <td>1</td>\n",
              "      <td>upfront</td>\n",
              "      <td>4882.0</td>\n",
              "      <td>562.0</td>\n",
              "      <td>No Effect</td>\n",
              "      <td>CA.5.04</td>\n",
              "      <td>DA.4.39</td>\n",
              "      <td>HUAWEI WAS-LX1</td>\n",
              "      <td>1</td>\n",
              "      <td>0</td>\n",
              "      <td>01</td>\n",
              "    </tr>\n",
              "    <tr>\n",
              "      <th>10</th>\n",
              "      <td>2020-02-24 08:51:31</td>\n",
              "      <td>8.04</td>\n",
              "      <td>8.1</td>\n",
              "      <td>0.746269</td>\n",
              "      <td>9977</td>\n",
              "      <td>1257</td>\n",
              "      <td>1</td>\n",
              "      <td>client</td>\n",
              "      <td>1</td>\n",
              "      <td>upfront</td>\n",
              "      <td>9891.0</td>\n",
              "      <td>1282.0</td>\n",
              "      <td>No Effect</td>\n",
              "      <td>CA.5.44</td>\n",
              "      <td>DA.4.39</td>\n",
              "      <td>HUAWEI BLA-L29</td>\n",
              "      <td>1</td>\n",
              "      <td>0</td>\n",
              "      <td>08</td>\n",
              "    </tr>\n",
              "    <tr>\n",
              "      <th>13</th>\n",
              "      <td>2020-03-05 18:52:48</td>\n",
              "      <td>7.65</td>\n",
              "      <td>6.3</td>\n",
              "      <td>17.647059</td>\n",
              "      <td>13355</td>\n",
              "      <td>1335</td>\n",
              "      <td>1</td>\n",
              "      <td>client</td>\n",
              "      <td>1</td>\n",
              "      <td>upfront</td>\n",
              "      <td>11823.0</td>\n",
              "      <td>888.0</td>\n",
              "      <td>No Effect</td>\n",
              "      <td>CA.5.32</td>\n",
              "      <td>DI.3.37</td>\n",
              "      <td>iPhone9,3</td>\n",
              "      <td>1</td>\n",
              "      <td>0</td>\n",
              "      <td>18</td>\n",
              "    </tr>\n",
              "  </tbody>\n",
              "</table>\n",
              "</div>"
            ],
            "text/plain": [
              "             Timestamp  metered_price  ...  overpaid_ride_ticket  Hourbased_Time\n",
              "2  2020-02-08 11:50:35           4.32  ...                     0              11\n",
              "4  2020-02-13 17:31:24       20032.50  ...                     0              17\n",
              "5  2020-02-14 01:27:01           6.11  ...                     0              01\n",
              "10 2020-02-24 08:51:31           8.04  ...                     0              08\n",
              "13 2020-03-05 18:52:48           7.65  ...                     0              18\n",
              "\n",
              "[5 rows x 19 columns]"
            ]
          },
          "metadata": {},
          "execution_count": 52
        }
      ]
    },
    {
      "cell_type": "code",
      "metadata": {
        "colab": {
          "base_uri": "https://localhost:8080/",
          "height": 440
        },
        "id": "kiXrOiz_NnpP",
        "outputId": "4d1aba95-c110-4826-cc18-84b9a7756c46"
      },
      "source": [
        "Diff_PriceDF = Billing_DF[Billing_DF['%_Price_Diff'] > 20.00]\n",
        "print(Diff_PriceDF.shape)\n",
        "Diff_PriceDF.head()"
      ],
      "execution_count": null,
      "outputs": [
        {
          "output_type": "stream",
          "name": "stdout",
          "text": [
            "(2852, 19)\n"
          ]
        },
        {
          "output_type": "execute_result",
          "data": {
            "text/html": [
              "<div>\n",
              "<style scoped>\n",
              "    .dataframe tbody tr th:only-of-type {\n",
              "        vertical-align: middle;\n",
              "    }\n",
              "\n",
              "    .dataframe tbody tr th {\n",
              "        vertical-align: top;\n",
              "    }\n",
              "\n",
              "    .dataframe thead th {\n",
              "        text-align: right;\n",
              "    }\n",
              "</style>\n",
              "<table border=\"1\" class=\"dataframe\">\n",
              "  <thead>\n",
              "    <tr style=\"text-align: right;\">\n",
              "      <th></th>\n",
              "      <th>Timestamp</th>\n",
              "      <th>metered_price</th>\n",
              "      <th>upfront_price</th>\n",
              "      <th>%_Price_Diff</th>\n",
              "      <th>distance</th>\n",
              "      <th>duration</th>\n",
              "      <th>gps_confidence</th>\n",
              "      <th>entered_by</th>\n",
              "      <th>dest_change_number</th>\n",
              "      <th>prediction_price_type</th>\n",
              "      <th>predicted_distance</th>\n",
              "      <th>predicted_duration</th>\n",
              "      <th>change_reason_pricing</th>\n",
              "      <th>rider_app_version</th>\n",
              "      <th>driver_app_version</th>\n",
              "      <th>device_name</th>\n",
              "      <th>eu_indicator</th>\n",
              "      <th>overpaid_ride_ticket</th>\n",
              "      <th>Hourbased_Time</th>\n",
              "    </tr>\n",
              "  </thead>\n",
              "  <tbody>\n",
              "    <tr>\n",
              "      <th>0</th>\n",
              "      <td>2020-02-02 03:37:31</td>\n",
              "      <td>4.04</td>\n",
              "      <td>10.000000</td>\n",
              "      <td>147.524752</td>\n",
              "      <td>2839</td>\n",
              "      <td>700</td>\n",
              "      <td>1</td>\n",
              "      <td>client</td>\n",
              "      <td>1</td>\n",
              "      <td>upfront</td>\n",
              "      <td>13384.0</td>\n",
              "      <td>1091.0</td>\n",
              "      <td>No Effect</td>\n",
              "      <td>CI.4.17</td>\n",
              "      <td>DA.4.37</td>\n",
              "      <td>Xiaomi Redmi 6</td>\n",
              "      <td>1</td>\n",
              "      <td>0</td>\n",
              "      <td>03</td>\n",
              "    </tr>\n",
              "    <tr>\n",
              "      <th>1</th>\n",
              "      <td>2020-02-08 02:26:19</td>\n",
              "      <td>6.09</td>\n",
              "      <td>3.600000</td>\n",
              "      <td>40.886700</td>\n",
              "      <td>5698</td>\n",
              "      <td>493</td>\n",
              "      <td>1</td>\n",
              "      <td>client</td>\n",
              "      <td>1</td>\n",
              "      <td>upfront</td>\n",
              "      <td>2286.0</td>\n",
              "      <td>360.0</td>\n",
              "      <td>No Effect</td>\n",
              "      <td>CA.5.43</td>\n",
              "      <td>DA.4.39</td>\n",
              "      <td>Samsung SM-G965F</td>\n",
              "      <td>1</td>\n",
              "      <td>0</td>\n",
              "      <td>02</td>\n",
              "    </tr>\n",
              "    <tr>\n",
              "      <th>3</th>\n",
              "      <td>2020-02-05 06:34:54</td>\n",
              "      <td>72871.72</td>\n",
              "      <td>4160.095747</td>\n",
              "      <td>94.291207</td>\n",
              "      <td>49748</td>\n",
              "      <td>1400</td>\n",
              "      <td>0</td>\n",
              "      <td>client</td>\n",
              "      <td>2</td>\n",
              "      <td>upfront_destination_changed</td>\n",
              "      <td>3017.0</td>\n",
              "      <td>600.0</td>\n",
              "      <td>client_destination_changed</td>\n",
              "      <td>CA.5.23</td>\n",
              "      <td>DA.4.37</td>\n",
              "      <td>TECNO-Y6</td>\n",
              "      <td>0</td>\n",
              "      <td>1</td>\n",
              "      <td>06</td>\n",
              "    </tr>\n",
              "    <tr>\n",
              "      <th>6</th>\n",
              "      <td>2020-02-09 06:51:20</td>\n",
              "      <td>20753.20</td>\n",
              "      <td>10500.000000</td>\n",
              "      <td>49.405393</td>\n",
              "      <td>10459</td>\n",
              "      <td>1874</td>\n",
              "      <td>1</td>\n",
              "      <td>client</td>\n",
              "      <td>1</td>\n",
              "      <td>upfront</td>\n",
              "      <td>4892.0</td>\n",
              "      <td>698.0</td>\n",
              "      <td>No Effect</td>\n",
              "      <td>CI.4.17</td>\n",
              "      <td>DA.4.19</td>\n",
              "      <td>TECNO MOBILE LIMITED TECNO KA7O</td>\n",
              "      <td>0</td>\n",
              "      <td>0</td>\n",
              "      <td>06</td>\n",
              "    </tr>\n",
              "    <tr>\n",
              "      <th>7</th>\n",
              "      <td>2020-02-17 18:24:45</td>\n",
              "      <td>2.61</td>\n",
              "      <td>6.500000</td>\n",
              "      <td>149.042146</td>\n",
              "      <td>2020</td>\n",
              "      <td>412</td>\n",
              "      <td>1</td>\n",
              "      <td>client</td>\n",
              "      <td>1</td>\n",
              "      <td>upfront</td>\n",
              "      <td>8545.0</td>\n",
              "      <td>888.0</td>\n",
              "      <td>No Effect</td>\n",
              "      <td>CI.4.18</td>\n",
              "      <td>DA.4.37</td>\n",
              "      <td>Samsung SM-N950F</td>\n",
              "      <td>1</td>\n",
              "      <td>0</td>\n",
              "      <td>18</td>\n",
              "    </tr>\n",
              "  </tbody>\n",
              "</table>\n",
              "</div>"
            ],
            "text/plain": [
              "            Timestamp  metered_price  ...  overpaid_ride_ticket  Hourbased_Time\n",
              "0 2020-02-02 03:37:31           4.04  ...                     0              03\n",
              "1 2020-02-08 02:26:19           6.09  ...                     0              02\n",
              "3 2020-02-05 06:34:54       72871.72  ...                     1              06\n",
              "6 2020-02-09 06:51:20       20753.20  ...                     0              06\n",
              "7 2020-02-17 18:24:45           2.61  ...                     0              18\n",
              "\n",
              "[5 rows x 19 columns]"
            ]
          },
          "metadata": {},
          "execution_count": 53
        }
      ]
    },
    {
      "cell_type": "code",
      "metadata": {
        "id": "PjxKjZs3dtzY"
      },
      "source": [
        ""
      ],
      "execution_count": null,
      "outputs": []
    },
    {
      "cell_type": "markdown",
      "metadata": {
        "id": "BXoJaUYPgOys"
      },
      "source": [
        "#Section C: Feature Evaluations"
      ]
    },
    {
      "cell_type": "markdown",
      "metadata": {
        "id": "VeX8kP5Mc-37"
      },
      "source": [
        "- I will be approching this task using the features' evaluation technique.\n",
        "\n",
        "- I will be analysing the two catergories of data (SamePrice_DF & DiffPrice_df)\n",
        "\n",
        "  -  Based on specific choice of individual features and how their behaviours varies in the two data sets\n",
        "\n",
        "  - This will give an insight on the features that directly \n"
      ]
    },
    {
      "cell_type": "code",
      "metadata": {
        "id": "7b9LRTcKgijw"
      },
      "source": [
        ""
      ],
      "execution_count": null,
      "outputs": []
    },
    {
      "cell_type": "markdown",
      "metadata": {
        "id": "6K7En4OAwhKQ"
      },
      "source": [
        "## GPS Confidence"
      ]
    },
    {
      "cell_type": "code",
      "metadata": {
        "colab": {
          "base_uri": "https://localhost:8080/"
        },
        "id": "LcyM3gOdlS3P",
        "outputId": "757b404f-66ec-4146-f290-5a6fb2de4352"
      },
      "source": [
        "print(\"% Distribution of 'gps_confidence' for rides with Different Prices\")\n",
        "print(Diff_PriceDF['gps_confidence'].value_counts(normalize=True)*100)\n",
        "print()\n",
        "print(\"% Distribution of 'gps_confidence' for rides with Same Prices\")\n",
        "print(Same_PriceDF['gps_confidence'].value_counts(normalize=True)*100)\n"
      ],
      "execution_count": null,
      "outputs": [
        {
          "output_type": "stream",
          "name": "stdout",
          "text": [
            "% Distribution of 'gps_confidence' for rides with Different Prices\n",
            "1    69.880785\n",
            "0    30.119215\n",
            "Name: gps_confidence, dtype: float64\n",
            "\n",
            "% Distribution of 'gps_confidence' for rides with Same Prices\n",
            "1    94.012554\n",
            "0     5.987446\n",
            "Name: gps_confidence, dtype: float64\n"
          ]
        }
      ]
    },
    {
      "cell_type": "code",
      "metadata": {
        "colab": {
          "base_uri": "https://localhost:8080/",
          "height": 332
        },
        "id": "KY3paM6Wj5eD",
        "outputId": "54ea6752-2514-44cf-8e8e-4d5113e59fa9"
      },
      "source": [
        "plt.subplots(figsize=(16, 5))  \n",
        "\n",
        "plt.subplot(1, 2, 1)  \n",
        "(Diff_PriceDF['gps_confidence'].value_counts(normalize=True)*100).plot.bar()\n",
        "plt.title(\"Distribution of 'GPS Confidence' (for Diff_Price Data)\")\n",
        "plt.grid()\n",
        "\n",
        "plt.subplot(1, 2, 2) \n",
        "(Same_PriceDF['gps_confidence'].value_counts(normalize=True)*100).plot.bar()\n",
        "plt.title(\"Distribution of 'GPS Confidence' (for Same_Price Data)\")\n",
        "plt.grid()"
      ],
      "execution_count": null,
      "outputs": [
        {
          "output_type": "display_data",
          "data": {
            "image/png": "[encoded data removed]",
            "text/plain": [
              "<Figure size 1152x360 with 2 Axes>"
            ]
          },
          "metadata": {
            "needs_background": "light"
          }
        }
      ]
    },
    {
      "cell_type": "code",
      "metadata": {
        "id": "OD86sJyFWXt3"
      },
      "source": [
        ""
      ],
      "execution_count": null,
      "outputs": []
    },
    {
      "cell_type": "markdown",
      "metadata": {
        "id": "1PO0R4ZzodYT"
      },
      "source": [
        "- The **GPS_Confidence** at the time the prediction was made has an impact on the prediction procedure\n",
        "\n",
        "  - Approximately 30% of rides with different prices (of metered and predicted amount) have a bad GPS connection during the prediction.\n",
        "\n",
        "  - Conversely, about 6% of rides with same prices have bad GPS connection"
      ]
    },
    {
      "cell_type": "code",
      "metadata": {
        "id": "Z76L7VkfTnl9"
      },
      "source": [
        ""
      ],
      "execution_count": null,
      "outputs": []
    },
    {
      "cell_type": "markdown",
      "metadata": {
        "id": "V9FtByzSwlqB"
      },
      "source": [
        "## Desination Change"
      ]
    },
    {
      "cell_type": "code",
      "metadata": {
        "colab": {
          "base_uri": "https://localhost:8080/"
        },
        "id": "S6IPH-gFjBHZ",
        "outputId": "3980650e-dd56-4831-9e9f-105506e97ea8"
      },
      "source": [
        "print(\"Analysis of Destination Change values for 'DiffPrice' Data...\")\n",
        "print(Diff_PriceDF['dest_change_number'].value_counts()) \n",
        "print(\"-----------------------------------------\")\n",
        "print()\n",
        "print(\"Num of destination input made once: \",Diff_PriceDF['dest_change_number'].value_counts().values[0])\n",
        "print(\"%  of destination input made once : \", (Diff_PriceDF['dest_change_number'].value_counts().values[0]/Diff_PriceDF.shape[0])*100)\n",
        "print(\"-----------------------------------------\")\n",
        "print()\n",
        "print(\"Num of destination change > 1:  \",Diff_PriceDF['dest_change_number'].value_counts().values[1:].sum())\n",
        "print(\"%  of destination change  > 1 : \", (Diff_PriceDF['dest_change_number'].value_counts().values[1:].sum()/Diff_PriceDF.shape[0])*100)\n"
      ],
      "execution_count": null,
      "outputs": [
        {
          "output_type": "stream",
          "name": "stdout",
          "text": [
            "Analysis of Destination Change values for 'DiffPrice' Data...\n",
            "1     2523\n",
            "2      224\n",
            "3       73\n",
            "4       17\n",
            "5        9\n",
            "7        2\n",
            "6        2\n",
            "9        1\n",
            "12       1\n",
            "Name: dest_change_number, dtype: int64\n",
            "-----------------------------------------\n",
            "\n",
            "Num of destination input made once:  2523\n",
            "%  of destination input made once :  88.46423562412342\n",
            "-----------------------------------------\n",
            "\n",
            "Num of destination change > 1:   329\n",
            "%  of destination change  > 1 :  11.535764375876578\n"
          ]
        }
      ]
    },
    {
      "cell_type": "code",
      "metadata": {
        "colab": {
          "base_uri": "https://localhost:8080/"
        },
        "id": "b_sBXr2_lflP",
        "outputId": "1a659aa1-70e0-4864-8950-aee0247509cd"
      },
      "source": [
        "print(\"Analysis of Destination Change values for 'SamePrice' Data...\")\n",
        "print(Same_PriceDF['dest_change_number'].value_counts()) \n",
        "print(\"-----------------------------------------\")\n",
        "print()\n",
        "print(\"Num of destination input made once: \",Same_PriceDF['dest_change_number'].value_counts().values[0])\n",
        "print(\"%  of destination input made once : \", (Same_PriceDF['dest_change_number'].value_counts().values[0]/Same_PriceDF.shape[0])*100)\n",
        "print(\"-----------------------------------------\")\n",
        "print()\n",
        "print(\"Num of destination change > 1:  \",Same_PriceDF['dest_change_number'].value_counts().values[1:].sum())\n",
        "print(\"%  of destination change  > 1 : \", (Same_PriceDF['dest_change_number'].value_counts().values[1:].sum()/Same_PriceDF.shape[0])*100)"
      ],
      "execution_count": null,
      "outputs": [
        {
          "output_type": "stream",
          "name": "stdout",
          "text": [
            "Analysis of Destination Change values for 'SamePrice' Data...\n",
            "1    2017\n",
            "2      32\n",
            "3      16\n",
            "5       3\n",
            "4       3\n",
            "Name: dest_change_number, dtype: int64\n",
            "-----------------------------------------\n",
            "\n",
            "Num of destination input made once:  2017\n",
            "%  of destination input made once :  97.39256397875423\n",
            "-----------------------------------------\n",
            "\n",
            "Num of destination change > 1:   54\n",
            "%  of destination change  > 1 :  2.6074360212457752\n"
          ]
        }
      ]
    },
    {
      "cell_type": "code",
      "metadata": {
        "colab": {
          "base_uri": "https://localhost:8080/",
          "height": 264
        },
        "id": "6WUBHjtBqI8P",
        "outputId": "23f6d8d1-10cf-4e1d-f534-34e83c091dd7"
      },
      "source": [
        "#plt.figure(figsize=(15,5))\n",
        "fig, (ax1,ax2)=plt.subplots(1,2)\n",
        "labels='Exactly 1','More than 1'\n",
        "sizes=[88.46,11.54]\n",
        "ax1.pie(sizes,\n",
        "        labels=labels,\n",
        "       startangle=90,\n",
        "        shadow=True,\n",
        "        autopct='%1.1f%%')\n",
        "ax1.axis('equal')\n",
        "ax1.set_title('Different Price Data')\n",
        "\n",
        "labels_='Exactly 1','More than 1'\n",
        "sizes_=[97.39,2.61]\n",
        "ax2.pie(sizes_,\n",
        "        labels=labels_,\n",
        "       startangle=90,\n",
        "        shadow=True,\n",
        "        autopct='%1.1f%%')\n",
        "ax2.axis('equal')\n",
        "ax2.set_title('Same Price Data')\n",
        "plt.show()"
      ],
      "execution_count": null,
      "outputs": [
        {
          "output_type": "display_data",
          "data": {
            "image/png": "[encoded data removed]",
            "text/plain": [
              "<Figure size 432x288 with 2 Axes>"
            ]
          },
          "metadata": {}
        }
      ]
    },
    {
      "cell_type": "markdown",
      "metadata": {
        "id": "uI71a4Lxt-rY"
      },
      "source": [
        "- The **Number of Destination Change** made during the ride also has an impact on the prediction procedure:\n",
        "\n",
        "  - More Rides with ~Different Prices has their destination changed more than once ..\n",
        "  \n",
        "  - as compared to rides that has ~same prices (of metered and predicted amount)) \n",
        "  \n",
        "  "
      ]
    },
    {
      "cell_type": "code",
      "metadata": {
        "id": "PQzvN03HwdVy"
      },
      "source": [
        ""
      ],
      "execution_count": null,
      "outputs": []
    },
    {
      "cell_type": "markdown",
      "metadata": {
        "id": "D4Adi0GIyjlX"
      },
      "source": [
        "## Distance & Pred Distance"
      ]
    },
    {
      "cell_type": "code",
      "metadata": {
        "id": "14pHD1Gr4TO7"
      },
      "source": [
        ""
      ],
      "execution_count": null,
      "outputs": []
    },
    {
      "cell_type": "code",
      "metadata": {
        "colab": {
          "base_uri": "https://localhost:8080/",
          "height": 414
        },
        "id": "0cP6oUuFy5eN",
        "outputId": "b2706cb8-11f7-464d-ca44-1b4f412c9aa1"
      },
      "source": [
        "x_list = list(range(0,2071))\n",
        "distDf_Sameprice = Same_PriceDF.sort_values('distance')[['distance','predicted_distance']]\n",
        "#distDf_Sameprice['Gap_diff'] = abs(distDf_Sameprice['distance']-distDf_Sameprice['predicted_distance'])\n",
        "\n",
        "xlist_2 = list(range(0,2852))\n",
        "distDf_Diffprice = Diff_PriceDF.sort_values('distance')[['distance','predicted_distance']]\n",
        "#distDf_Diffprice['Gap_diff'] = abs(distDf_Diffprice['distance']-distDf_Diffprice['predicted_distance'])\n",
        "\n",
        "distDf_Diffprice"
      ],
      "execution_count": null,
      "outputs": [
        {
          "output_type": "execute_result",
          "data": {
            "text/html": [
              "<div>\n",
              "<style scoped>\n",
              "    .dataframe tbody tr th:only-of-type {\n",
              "        vertical-align: middle;\n",
              "    }\n",
              "\n",
              "    .dataframe tbody tr th {\n",
              "        vertical-align: top;\n",
              "    }\n",
              "\n",
              "    .dataframe thead th {\n",
              "        text-align: right;\n",
              "    }\n",
              "</style>\n",
              "<table border=\"1\" class=\"dataframe\">\n",
              "  <thead>\n",
              "    <tr style=\"text-align: right;\">\n",
              "      <th></th>\n",
              "      <th>distance</th>\n",
              "      <th>predicted_distance</th>\n",
              "    </tr>\n",
              "  </thead>\n",
              "  <tbody>\n",
              "    <tr>\n",
              "      <th>521</th>\n",
              "      <td>0</td>\n",
              "      <td>11130.0</td>\n",
              "    </tr>\n",
              "    <tr>\n",
              "      <th>2581</th>\n",
              "      <td>0</td>\n",
              "      <td>9411.0</td>\n",
              "    </tr>\n",
              "    <tr>\n",
              "      <th>2571</th>\n",
              "      <td>0</td>\n",
              "      <td>12384.0</td>\n",
              "    </tr>\n",
              "    <tr>\n",
              "      <th>4724</th>\n",
              "      <td>0</td>\n",
              "      <td>8131.0</td>\n",
              "    </tr>\n",
              "    <tr>\n",
              "      <th>3274</th>\n",
              "      <td>0</td>\n",
              "      <td>9411.0</td>\n",
              "    </tr>\n",
              "    <tr>\n",
              "      <th>...</th>\n",
              "      <td>...</td>\n",
              "      <td>...</td>\n",
              "    </tr>\n",
              "    <tr>\n",
              "      <th>3575</th>\n",
              "      <td>84420</td>\n",
              "      <td>10791.0</td>\n",
              "    </tr>\n",
              "    <tr>\n",
              "      <th>2695</th>\n",
              "      <td>86340</td>\n",
              "      <td>86112.0</td>\n",
              "    </tr>\n",
              "    <tr>\n",
              "      <th>1188</th>\n",
              "      <td>123934</td>\n",
              "      <td>11922.0</td>\n",
              "    </tr>\n",
              "    <tr>\n",
              "      <th>4811</th>\n",
              "      <td>132018</td>\n",
              "      <td>105347.0</td>\n",
              "    </tr>\n",
              "    <tr>\n",
              "      <th>3776</th>\n",
              "      <td>233190</td>\n",
              "      <td>217444.0</td>\n",
              "    </tr>\n",
              "  </tbody>\n",
              "</table>\n",
              "<p>2852 rows × 2 columns</p>\n",
              "</div>"
            ],
            "text/plain": [
              "      distance  predicted_distance\n",
              "521          0             11130.0\n",
              "2581         0              9411.0\n",
              "2571         0             12384.0\n",
              "4724         0              8131.0\n",
              "3274         0              9411.0\n",
              "...        ...                 ...\n",
              "3575     84420             10791.0\n",
              "2695     86340             86112.0\n",
              "1188    123934             11922.0\n",
              "4811    132018            105347.0\n",
              "3776    233190            217444.0\n",
              "\n",
              "[2852 rows x 2 columns]"
            ]
          },
          "metadata": {},
          "execution_count": 87
        }
      ]
    },
    {
      "cell_type": "code",
      "metadata": {
        "colab": {
          "base_uri": "https://localhost:8080/",
          "height": 407
        },
        "id": "UbhJi8s-9jXi",
        "outputId": "707b2826-d942-49a1-c0a2-8ee890f9a203"
      },
      "source": [
        "plt.subplots(figsize=(18, 6))  \n",
        "\n",
        "plt.subplot(1, 2, 1)  \n",
        "plt.plot(x_list,distDf_Sameprice['distance'],linewidth=2.5,marker='o',label='True Values')\n",
        "plt.plot(x_list,distDf_Sameprice['predicted_distance'],label='Pred Values')\n",
        "#plt.plot(x_list,distDf_Sameprice['Gap_diff'],label='Gap Diff')\n",
        "\n",
        "plt.title(\"Distance VS Predicted Distance(SamePrice Data)\")\n",
        "plt.grid()\n",
        "plt.legend()\n",
        "\n",
        "plt.subplot(1, 2, 2) \n",
        "plt.plot(xlist_2,distDf_Diffprice['distance'],linewidth=2.5,marker='o',label='True Values')\n",
        "plt.plot(xlist_2,distDf_Diffprice['predicted_distance'],label='Pred Values')\n",
        "#plt.plot(xlist_2,distDf_Diffprice['Gap_diff'],label='Gap Diff')\n",
        "\n",
        "plt.title(\"Distance VS Predicted Distance(DiffPrice Data)\")\n",
        "plt.grid()\n",
        "plt.legend()"
      ],
      "execution_count": null,
      "outputs": [
        {
          "output_type": "execute_result",
          "data": {
            "text/plain": [
              "<matplotlib.legend.Legend at 0x7fc5c54cf5d0>"
            ]
          },
          "metadata": {},
          "execution_count": 88
        },
        {
          "output_type": "display_data",
          "data": {
            "image/png": "[encoded data removed]",
            "text/plain": [
              "<Figure size 1296x432 with 2 Axes>"
            ]
          },
          "metadata": {
            "needs_background": "light"
          }
        }
      ]
    },
    {
      "cell_type": "code",
      "metadata": {
        "id": "rFW7By3HzG-y"
      },
      "source": [
        ""
      ],
      "execution_count": null,
      "outputs": []
    },
    {
      "cell_type": "markdown",
      "metadata": {
        "id": "JUix0g2szgPw"
      },
      "source": [
        "## Duration & Pred Duration"
      ]
    },
    {
      "cell_type": "code",
      "metadata": {
        "colab": {
          "base_uri": "https://localhost:8080/",
          "height": 414
        },
        "id": "NqQw0WWfzG2t",
        "outputId": "9e014501-f81f-4f0c-a019-63f1b71decdd"
      },
      "source": [
        "durationDf_Sameprice = Same_PriceDF.sort_values('duration')[['duration','predicted_duration']]\n",
        "#durationDf_Sameprice['Gap_diff'] = abs(durationDf_Sameprice['duration']-durationDf_Sameprice['predicted_duration'])\n",
        "\n",
        "\n",
        "durationDf_DiffPrice = Diff_PriceDF.sort_values('duration')[['duration','predicted_duration']]\n",
        "#durationDf_DiffPrice['Gap_diff'] = abs(durationDf_DiffPrice['duration']-durationDf_DiffPrice['predicted_duration'])\n",
        "\n",
        "distDf_Sameprice"
      ],
      "execution_count": null,
      "outputs": [
        {
          "output_type": "execute_result",
          "data": {
            "text/html": [
              "<div>\n",
              "<style scoped>\n",
              "    .dataframe tbody tr th:only-of-type {\n",
              "        vertical-align: middle;\n",
              "    }\n",
              "\n",
              "    .dataframe tbody tr th {\n",
              "        vertical-align: top;\n",
              "    }\n",
              "\n",
              "    .dataframe thead th {\n",
              "        text-align: right;\n",
              "    }\n",
              "</style>\n",
              "<table border=\"1\" class=\"dataframe\">\n",
              "  <thead>\n",
              "    <tr style=\"text-align: right;\">\n",
              "      <th></th>\n",
              "      <th>distance</th>\n",
              "      <th>predicted_distance</th>\n",
              "    </tr>\n",
              "  </thead>\n",
              "  <tbody>\n",
              "    <tr>\n",
              "      <th>2065</th>\n",
              "      <td>0</td>\n",
              "      <td>1430.0</td>\n",
              "    </tr>\n",
              "    <tr>\n",
              "      <th>2096</th>\n",
              "      <td>0</td>\n",
              "      <td>1610.0</td>\n",
              "    </tr>\n",
              "    <tr>\n",
              "      <th>1475</th>\n",
              "      <td>0</td>\n",
              "      <td>3287.0</td>\n",
              "    </tr>\n",
              "    <tr>\n",
              "      <th>2907</th>\n",
              "      <td>0</td>\n",
              "      <td>2110.0</td>\n",
              "    </tr>\n",
              "    <tr>\n",
              "      <th>1463</th>\n",
              "      <td>0</td>\n",
              "      <td>1944.0</td>\n",
              "    </tr>\n",
              "    <tr>\n",
              "      <th>...</th>\n",
              "      <td>...</td>\n",
              "      <td>...</td>\n",
              "    </tr>\n",
              "    <tr>\n",
              "      <th>2773</th>\n",
              "      <td>52387</td>\n",
              "      <td>52197.0</td>\n",
              "    </tr>\n",
              "    <tr>\n",
              "      <th>1068</th>\n",
              "      <td>58927</td>\n",
              "      <td>67650.0</td>\n",
              "    </tr>\n",
              "    <tr>\n",
              "      <th>2352</th>\n",
              "      <td>126657</td>\n",
              "      <td>125384.0</td>\n",
              "    </tr>\n",
              "    <tr>\n",
              "      <th>2033</th>\n",
              "      <td>134498</td>\n",
              "      <td>131873.0</td>\n",
              "    </tr>\n",
              "    <tr>\n",
              "      <th>1315</th>\n",
              "      <td>171119</td>\n",
              "      <td>164512.0</td>\n",
              "    </tr>\n",
              "  </tbody>\n",
              "</table>\n",
              "<p>2071 rows × 2 columns</p>\n",
              "</div>"
            ],
            "text/plain": [
              "      distance  predicted_distance\n",
              "2065         0              1430.0\n",
              "2096         0              1610.0\n",
              "1475         0              3287.0\n",
              "2907         0              2110.0\n",
              "1463         0              1944.0\n",
              "...        ...                 ...\n",
              "2773     52387             52197.0\n",
              "1068     58927             67650.0\n",
              "2352    126657            125384.0\n",
              "2033    134498            131873.0\n",
              "1315    171119            164512.0\n",
              "\n",
              "[2071 rows x 2 columns]"
            ]
          },
          "metadata": {},
          "execution_count": 89
        }
      ]
    },
    {
      "cell_type": "code",
      "metadata": {
        "colab": {
          "base_uri": "https://localhost:8080/",
          "height": 407
        },
        "id": "FwC3fbE3-h2t",
        "outputId": "7c0d0dd8-392e-482d-effe-2457e1ae257a"
      },
      "source": [
        "plt.subplots(figsize=(18, 6))  \n",
        "\n",
        "plt.subplot(1, 2, 1)  \n",
        "plt.plot(x_list,durationDf_Sameprice['duration'],linewidth=2.5,marker='o',label='True values')\n",
        "plt.plot(x_list,durationDf_Sameprice['predicted_duration'],label='Pred Values')\n",
        "#plt.plot(x_list,durationDf_Sameprice['Gap_diff'],label='Gap Diff')\n",
        "\n",
        "plt.title(\"Duration VS Predicted Duration (SamePrice Data)\")\n",
        "plt.grid()\n",
        "plt.legend()\n",
        "\n",
        "plt.subplot(1, 2, 2) \n",
        "plt.plot(xlist_2,durationDf_DiffPrice['duration'],linewidth=2.5,marker='o',label='True values')\n",
        "plt.plot(xlist_2,durationDf_DiffPrice['predicted_duration'],label='Pred values')\n",
        "#plt.plot(xlist_2,durationDf_DiffPrice['Gap_diff'],label='Gap Diff')\n",
        "\n",
        "plt.title(\"Duration VS Predicted Duration (DiffPrice Data)\")\n",
        "plt.grid()\n",
        "plt.legend()"
      ],
      "execution_count": null,
      "outputs": [
        {
          "output_type": "execute_result",
          "data": {
            "text/plain": [
              "<matplotlib.legend.Legend at 0x7fc5c53c91d0>"
            ]
          },
          "metadata": {},
          "execution_count": 90
        },
        {
          "output_type": "display_data",
          "data": {
            "image/png": "[encoded data removed]",
            "text/plain": [
              "<Figure size 1296x432 with 2 Axes>"
            ]
          },
          "metadata": {
            "needs_background": "light"
          }
        }
      ]
    },
    {
      "cell_type": "code",
      "metadata": {
        "id": "my1encddBZlZ"
      },
      "source": [
        ""
      ],
      "execution_count": null,
      "outputs": []
    },
    {
      "cell_type": "markdown",
      "metadata": {
        "id": "_YLsfcrRwxkE"
      },
      "source": [
        "- The \"**Distance VS Predicted Distance**\" and \"**Duration VS Predicted Duration**\" \n",
        "\n",
        "-  There are much more gap difference between the actual and predicted distances for the DiffPrice_DF. \n",
        "\n",
        "- A similar trend is shown for the evaluation of the  Duration vs Predicted Duration;   \n",
        "        \n",
        "- This shows that if the predicted distances and duration are as close enough to the actual distances and duration, then the upfront prices will have a high precision."
      ]
    },
    {
      "cell_type": "code",
      "metadata": {
        "id": "b3TfK00wwxMb"
      },
      "source": [
        ""
      ],
      "execution_count": null,
      "outputs": []
    },
    {
      "cell_type": "markdown",
      "metadata": {
        "id": "4maH1soWOZ2E"
      },
      "source": [
        "## EU Indicators"
      ]
    },
    {
      "cell_type": "code",
      "metadata": {
        "colab": {
          "base_uri": "https://localhost:8080/"
        },
        "id": "2wjVGFWAao6M",
        "outputId": "57dbd2e2-69fd-45d1-df35-6fe6781f9994"
      },
      "source": [
        "print(Billing_DF['eu_indicator'].value_counts(normalize=True)*100)"
      ],
      "execution_count": null,
      "outputs": [
        {
          "output_type": "stream",
          "name": "stdout",
          "text": [
            "1    55.860248\n",
            "0    44.139752\n",
            "Name: eu_indicator, dtype: float64\n"
          ]
        }
      ]
    },
    {
      "cell_type": "code",
      "metadata": {
        "colab": {
          "base_uri": "https://localhost:8080/"
        },
        "id": "cQjiz8RMa96u",
        "outputId": "feedefb9-b8f5-4daa-f722-a19bd21b9c64"
      },
      "source": [
        "print(Same_PriceDF['eu_indicator'].value_counts(normalize=True)*100) "
      ],
      "execution_count": null,
      "outputs": [
        {
          "output_type": "stream",
          "name": "stdout",
          "text": [
            "1    80.202801\n",
            "0    19.797199\n",
            "Name: eu_indicator, dtype: float64\n"
          ]
        }
      ]
    },
    {
      "cell_type": "code",
      "metadata": {
        "colab": {
          "base_uri": "https://localhost:8080/"
        },
        "id": "391aJ7tHblcT",
        "outputId": "f9ee2217-0ef0-4410-ed71-228b94665427"
      },
      "source": [
        "print(Diff_PriceDF['eu_indicator'].value_counts(normalize=True)*100)"
      ],
      "execution_count": null,
      "outputs": [
        {
          "output_type": "stream",
          "name": "stdout",
          "text": [
            "0    61.816269\n",
            "1    38.183731\n",
            "Name: eu_indicator, dtype: float64\n"
          ]
        }
      ]
    },
    {
      "cell_type": "code",
      "metadata": {
        "colab": {
          "base_uri": "https://localhost:8080/",
          "height": 374
        },
        "id": "qkVkaDY4c85K",
        "outputId": "5508dff9-4fde-433e-ab8d-d1f194491b4e"
      },
      "source": [
        "x = ['Same PriceDF', 'Diff PriceDF']\n",
        "y1 = [80.02, 61.81]\n",
        "y2 = [19.80, 38.18]\n",
        "  \n",
        "#Plot bars in stack \n",
        "plt.figure(figsize=(8,6))\n",
        "plt.bar(x, y1)\n",
        "plt.bar(x, y2, bottom=y1)\n",
        "#plt.grid()\n",
        "plt.legend(['EU_Rides','Non-EU Rides'])\n",
        "plt.show()"
      ],
      "execution_count": null,
      "outputs": [
        {
          "output_type": "display_data",
          "data": {
            "image/png": "[encoded data removed]",
            "text/plain": [
              "<Figure size 576x432 with 1 Axes>"
            ]
          },
          "metadata": {
            "needs_background": "light"
          }
        }
      ]
    },
    {
      "cell_type": "code",
      "metadata": {
        "id": "XTr7XFkhrMAy"
      },
      "source": [
        ""
      ],
      "execution_count": null,
      "outputs": []
    },
    {
      "cell_type": "markdown",
      "metadata": {
        "id": "XJAdmHLx0Q77"
      },
      "source": [
        "- The Location of ride shows an effect on the predicted price.\n",
        "\n",
        "- More rides that occured in the EU have same price range."
      ]
    },
    {
      "cell_type": "code",
      "metadata": {
        "id": "yTYJJwpI0QWs"
      },
      "source": [
        ""
      ],
      "execution_count": null,
      "outputs": []
    },
    {
      "cell_type": "markdown",
      "metadata": {
        "id": "3r_IFYW8RLc5"
      },
      "source": [
        "## Order Time"
      ]
    },
    {
      "cell_type": "markdown",
      "metadata": {
        "id": "0guxTaojJfMo"
      },
      "source": [
        "- Evaluation of rides based on the hour of the day the order was made"
      ]
    },
    {
      "cell_type": "code",
      "metadata": {
        "colab": {
          "base_uri": "https://localhost:8080/",
          "height": 305
        },
        "id": "mHCzA_IpRKfw",
        "outputId": "b47e3332-fa45-48ba-d412-479b6a7f64db"
      },
      "source": [
        "Billing_DF.head()"
      ],
      "execution_count": null,
      "outputs": [
        {
          "output_type": "execute_result",
          "data": {
            "text/html": [
              "<div>\n",
              "<style scoped>\n",
              "    .dataframe tbody tr th:only-of-type {\n",
              "        vertical-align: middle;\n",
              "    }\n",
              "\n",
              "    .dataframe tbody tr th {\n",
              "        vertical-align: top;\n",
              "    }\n",
              "\n",
              "    .dataframe thead th {\n",
              "        text-align: right;\n",
              "    }\n",
              "</style>\n",
              "<table border=\"1\" class=\"dataframe\">\n",
              "  <thead>\n",
              "    <tr style=\"text-align: right;\">\n",
              "      <th></th>\n",
              "      <th>calc_created</th>\n",
              "      <th>metered_price</th>\n",
              "      <th>upfront_price</th>\n",
              "      <th>%_Price_Diff</th>\n",
              "      <th>distance</th>\n",
              "      <th>duration</th>\n",
              "      <th>gps_confidence</th>\n",
              "      <th>entered_by</th>\n",
              "      <th>dest_change_number</th>\n",
              "      <th>prediction_price_type</th>\n",
              "      <th>predicted_distance</th>\n",
              "      <th>predicted_duration</th>\n",
              "      <th>change_reason_pricing</th>\n",
              "      <th>rider_app_version</th>\n",
              "      <th>driver_app_version</th>\n",
              "      <th>order_state</th>\n",
              "      <th>order_try_state</th>\n",
              "      <th>device_name</th>\n",
              "      <th>eu_indicator</th>\n",
              "      <th>overpaid_ride_ticket</th>\n",
              "      <th>fraud_score</th>\n",
              "    </tr>\n",
              "  </thead>\n",
              "  <tbody>\n",
              "    <tr>\n",
              "      <th>0</th>\n",
              "      <td>2020-02-02 3:37:31</td>\n",
              "      <td>4.04</td>\n",
              "      <td>10.0</td>\n",
              "      <td>147.524752</td>\n",
              "      <td>2839</td>\n",
              "      <td>700</td>\n",
              "      <td>1</td>\n",
              "      <td>client</td>\n",
              "      <td>1</td>\n",
              "      <td>upfront</td>\n",
              "      <td>13384.0</td>\n",
              "      <td>1091.0</td>\n",
              "      <td>NaN</td>\n",
              "      <td>CI.4.17</td>\n",
              "      <td>DA.4.37</td>\n",
              "      <td>finished</td>\n",
              "      <td>finished</td>\n",
              "      <td>Xiaomi Redmi 6</td>\n",
              "      <td>1</td>\n",
              "      <td>0</td>\n",
              "      <td>-1383.0</td>\n",
              "    </tr>\n",
              "    <tr>\n",
              "      <th>1</th>\n",
              "      <td>2020-02-08 2:26:19</td>\n",
              "      <td>6.09</td>\n",
              "      <td>3.6</td>\n",
              "      <td>40.886700</td>\n",
              "      <td>5698</td>\n",
              "      <td>493</td>\n",
              "      <td>1</td>\n",
              "      <td>client</td>\n",
              "      <td>1</td>\n",
              "      <td>upfront</td>\n",
              "      <td>2286.0</td>\n",
              "      <td>360.0</td>\n",
              "      <td>NaN</td>\n",
              "      <td>CA.5.43</td>\n",
              "      <td>DA.4.39</td>\n",
              "      <td>finished</td>\n",
              "      <td>finished</td>\n",
              "      <td>Samsung SM-G965F</td>\n",
              "      <td>1</td>\n",
              "      <td>0</td>\n",
              "      <td>NaN</td>\n",
              "    </tr>\n",
              "    <tr>\n",
              "      <th>2</th>\n",
              "      <td>2020-02-08 11:50:35</td>\n",
              "      <td>4.32</td>\n",
              "      <td>3.5</td>\n",
              "      <td>18.981481</td>\n",
              "      <td>4426</td>\n",
              "      <td>695</td>\n",
              "      <td>1</td>\n",
              "      <td>client</td>\n",
              "      <td>1</td>\n",
              "      <td>upfront</td>\n",
              "      <td>4101.0</td>\n",
              "      <td>433.0</td>\n",
              "      <td>NaN</td>\n",
              "      <td>CA.5.43</td>\n",
              "      <td>DA.4.37</td>\n",
              "      <td>finished</td>\n",
              "      <td>finished</td>\n",
              "      <td>Samsung SM-A530F</td>\n",
              "      <td>1</td>\n",
              "      <td>0</td>\n",
              "      <td>-166.0</td>\n",
              "    </tr>\n",
              "    <tr>\n",
              "      <th>3</th>\n",
              "      <td>2020-02-05 6:34:54</td>\n",
              "      <td>72871.72</td>\n",
              "      <td>NaN</td>\n",
              "      <td>NaN</td>\n",
              "      <td>49748</td>\n",
              "      <td>1400</td>\n",
              "      <td>0</td>\n",
              "      <td>client</td>\n",
              "      <td>2</td>\n",
              "      <td>upfront_destination_changed</td>\n",
              "      <td>3017.0</td>\n",
              "      <td>600.0</td>\n",
              "      <td>client_destination_changed</td>\n",
              "      <td>CA.5.23</td>\n",
              "      <td>DA.4.37</td>\n",
              "      <td>finished</td>\n",
              "      <td>finished</td>\n",
              "      <td>TECNO-Y6</td>\n",
              "      <td>0</td>\n",
              "      <td>1</td>\n",
              "      <td>NaN</td>\n",
              "    </tr>\n",
              "    <tr>\n",
              "      <th>4</th>\n",
              "      <td>2020-02-13 17:31:24</td>\n",
              "      <td>20032.50</td>\n",
              "      <td>19500.0</td>\n",
              "      <td>2.658180</td>\n",
              "      <td>10273</td>\n",
              "      <td>5067</td>\n",
              "      <td>1</td>\n",
              "      <td>client</td>\n",
              "      <td>1</td>\n",
              "      <td>upfront</td>\n",
              "      <td>14236.0</td>\n",
              "      <td>2778.0</td>\n",
              "      <td>NaN</td>\n",
              "      <td>CA.5.04</td>\n",
              "      <td>DA.4.37</td>\n",
              "      <td>finished</td>\n",
              "      <td>finished</td>\n",
              "      <td>Itel W5504</td>\n",
              "      <td>0</td>\n",
              "      <td>0</td>\n",
              "      <td>NaN</td>\n",
              "    </tr>\n",
              "  </tbody>\n",
              "</table>\n",
              "</div>"
            ],
            "text/plain": [
              "          calc_created  metered_price  ...  overpaid_ride_ticket  fraud_score\n",
              "0   2020-02-02 3:37:31           4.04  ...                     0      -1383.0\n",
              "1   2020-02-08 2:26:19           6.09  ...                     0          NaN\n",
              "2  2020-02-08 11:50:35           4.32  ...                     0       -166.0\n",
              "3   2020-02-05 6:34:54       72871.72  ...                     1          NaN\n",
              "4  2020-02-13 17:31:24       20032.50  ...                     0          NaN\n",
              "\n",
              "[5 rows x 21 columns]"
            ]
          },
          "metadata": {},
          "execution_count": 27
        }
      ]
    },
    {
      "cell_type": "code",
      "metadata": {
        "id": "d26X3qD9e3uv"
      },
      "source": [
        ""
      ],
      "execution_count": null,
      "outputs": []
    },
    {
      "cell_type": "code",
      "metadata": {
        "colab": {
          "base_uri": "https://localhost:8080/",
          "height": 784
        },
        "id": "X4tP81HZaM-a",
        "outputId": "82a325eb-0838-44d6-8da4-6f9476343e41"
      },
      "source": [
        "df1 = pd.DataFrame(Same_PriceDF['Hourbased_Time'].value_counts()).reset_index().sort_values('index')\n",
        "df1.reset_index(drop=True)"
      ],
      "execution_count": null,
      "outputs": [
        {
          "output_type": "execute_result",
          "data": {
            "text/html": [
              "<div>\n",
              "<style scoped>\n",
              "    .dataframe tbody tr th:only-of-type {\n",
              "        vertical-align: middle;\n",
              "    }\n",
              "\n",
              "    .dataframe tbody tr th {\n",
              "        vertical-align: top;\n",
              "    }\n",
              "\n",
              "    .dataframe thead th {\n",
              "        text-align: right;\n",
              "    }\n",
              "</style>\n",
              "<table border=\"1\" class=\"dataframe\">\n",
              "  <thead>\n",
              "    <tr style=\"text-align: right;\">\n",
              "      <th></th>\n",
              "      <th>index</th>\n",
              "      <th>Hourbased_Time</th>\n",
              "    </tr>\n",
              "  </thead>\n",
              "  <tbody>\n",
              "    <tr>\n",
              "      <th>0</th>\n",
              "      <td>00</td>\n",
              "      <td>74</td>\n",
              "    </tr>\n",
              "    <tr>\n",
              "      <th>1</th>\n",
              "      <td>01</td>\n",
              "      <td>76</td>\n",
              "    </tr>\n",
              "    <tr>\n",
              "      <th>2</th>\n",
              "      <td>02</td>\n",
              "      <td>52</td>\n",
              "    </tr>\n",
              "    <tr>\n",
              "      <th>3</th>\n",
              "      <td>03</td>\n",
              "      <td>65</td>\n",
              "    </tr>\n",
              "    <tr>\n",
              "      <th>4</th>\n",
              "      <td>04</td>\n",
              "      <td>39</td>\n",
              "    </tr>\n",
              "    <tr>\n",
              "      <th>5</th>\n",
              "      <td>05</td>\n",
              "      <td>52</td>\n",
              "    </tr>\n",
              "    <tr>\n",
              "      <th>6</th>\n",
              "      <td>06</td>\n",
              "      <td>93</td>\n",
              "    </tr>\n",
              "    <tr>\n",
              "      <th>7</th>\n",
              "      <td>07</td>\n",
              "      <td>84</td>\n",
              "    </tr>\n",
              "    <tr>\n",
              "      <th>8</th>\n",
              "      <td>08</td>\n",
              "      <td>74</td>\n",
              "    </tr>\n",
              "    <tr>\n",
              "      <th>9</th>\n",
              "      <td>09</td>\n",
              "      <td>86</td>\n",
              "    </tr>\n",
              "    <tr>\n",
              "      <th>10</th>\n",
              "      <td>10</td>\n",
              "      <td>73</td>\n",
              "    </tr>\n",
              "    <tr>\n",
              "      <th>11</th>\n",
              "      <td>11</td>\n",
              "      <td>115</td>\n",
              "    </tr>\n",
              "    <tr>\n",
              "      <th>12</th>\n",
              "      <td>12</td>\n",
              "      <td>83</td>\n",
              "    </tr>\n",
              "    <tr>\n",
              "      <th>13</th>\n",
              "      <td>13</td>\n",
              "      <td>81</td>\n",
              "    </tr>\n",
              "    <tr>\n",
              "      <th>14</th>\n",
              "      <td>14</td>\n",
              "      <td>93</td>\n",
              "    </tr>\n",
              "    <tr>\n",
              "      <th>15</th>\n",
              "      <td>15</td>\n",
              "      <td>126</td>\n",
              "    </tr>\n",
              "    <tr>\n",
              "      <th>16</th>\n",
              "      <td>16</td>\n",
              "      <td>124</td>\n",
              "    </tr>\n",
              "    <tr>\n",
              "      <th>17</th>\n",
              "      <td>17</td>\n",
              "      <td>93</td>\n",
              "    </tr>\n",
              "    <tr>\n",
              "      <th>18</th>\n",
              "      <td>18</td>\n",
              "      <td>77</td>\n",
              "    </tr>\n",
              "    <tr>\n",
              "      <th>19</th>\n",
              "      <td>19</td>\n",
              "      <td>104</td>\n",
              "    </tr>\n",
              "    <tr>\n",
              "      <th>20</th>\n",
              "      <td>20</td>\n",
              "      <td>105</td>\n",
              "    </tr>\n",
              "    <tr>\n",
              "      <th>21</th>\n",
              "      <td>21</td>\n",
              "      <td>102</td>\n",
              "    </tr>\n",
              "    <tr>\n",
              "      <th>22</th>\n",
              "      <td>22</td>\n",
              "      <td>88</td>\n",
              "    </tr>\n",
              "    <tr>\n",
              "      <th>23</th>\n",
              "      <td>23</td>\n",
              "      <td>90</td>\n",
              "    </tr>\n",
              "  </tbody>\n",
              "</table>\n",
              "</div>"
            ],
            "text/plain": [
              "   index  Hourbased_Time\n",
              "0     00              74\n",
              "1     01              76\n",
              "2     02              52\n",
              "3     03              65\n",
              "4     04              39\n",
              "5     05              52\n",
              "6     06              93\n",
              "7     07              84\n",
              "8     08              74\n",
              "9     09              86\n",
              "10    10              73\n",
              "11    11             115\n",
              "12    12              83\n",
              "13    13              81\n",
              "14    14              93\n",
              "15    15             126\n",
              "16    16             124\n",
              "17    17              93\n",
              "18    18              77\n",
              "19    19             104\n",
              "20    20             105\n",
              "21    21             102\n",
              "22    22              88\n",
              "23    23              90"
            ]
          },
          "metadata": {},
          "execution_count": 47
        }
      ]
    },
    {
      "cell_type": "code",
      "metadata": {
        "colab": {
          "base_uri": "https://localhost:8080/",
          "height": 784
        },
        "id": "vtzLlm3oZt3t",
        "outputId": "e9203503-df49-4201-f499-18d4a38d720f"
      },
      "source": [
        "df_2 = pd.DataFrame(Diff_PriceDF['Hourbased_Time'].value_counts()).reset_index().sort_values('index')\n",
        "df_2.reset_index(drop=True)"
      ],
      "execution_count": null,
      "outputs": [
        {
          "output_type": "execute_result",
          "data": {
            "text/html": [
              "<div>\n",
              "<style scoped>\n",
              "    .dataframe tbody tr th:only-of-type {\n",
              "        vertical-align: middle;\n",
              "    }\n",
              "\n",
              "    .dataframe tbody tr th {\n",
              "        vertical-align: top;\n",
              "    }\n",
              "\n",
              "    .dataframe thead th {\n",
              "        text-align: right;\n",
              "    }\n",
              "</style>\n",
              "<table border=\"1\" class=\"dataframe\">\n",
              "  <thead>\n",
              "    <tr style=\"text-align: right;\">\n",
              "      <th></th>\n",
              "      <th>index</th>\n",
              "      <th>Hourbased_Time</th>\n",
              "    </tr>\n",
              "  </thead>\n",
              "  <tbody>\n",
              "    <tr>\n",
              "      <th>0</th>\n",
              "      <td>00</td>\n",
              "      <td>27</td>\n",
              "    </tr>\n",
              "    <tr>\n",
              "      <th>1</th>\n",
              "      <td>01</td>\n",
              "      <td>26</td>\n",
              "    </tr>\n",
              "    <tr>\n",
              "      <th>2</th>\n",
              "      <td>02</td>\n",
              "      <td>39</td>\n",
              "    </tr>\n",
              "    <tr>\n",
              "      <th>3</th>\n",
              "      <td>03</td>\n",
              "      <td>20</td>\n",
              "    </tr>\n",
              "    <tr>\n",
              "      <th>4</th>\n",
              "      <td>04</td>\n",
              "      <td>26</td>\n",
              "    </tr>\n",
              "    <tr>\n",
              "      <th>5</th>\n",
              "      <td>05</td>\n",
              "      <td>24</td>\n",
              "    </tr>\n",
              "    <tr>\n",
              "      <th>6</th>\n",
              "      <td>06</td>\n",
              "      <td>69</td>\n",
              "    </tr>\n",
              "    <tr>\n",
              "      <th>7</th>\n",
              "      <td>07</td>\n",
              "      <td>74</td>\n",
              "    </tr>\n",
              "    <tr>\n",
              "      <th>8</th>\n",
              "      <td>08</td>\n",
              "      <td>43</td>\n",
              "    </tr>\n",
              "    <tr>\n",
              "      <th>9</th>\n",
              "      <td>09</td>\n",
              "      <td>70</td>\n",
              "    </tr>\n",
              "    <tr>\n",
              "      <th>10</th>\n",
              "      <td>10</td>\n",
              "      <td>58</td>\n",
              "    </tr>\n",
              "    <tr>\n",
              "      <th>11</th>\n",
              "      <td>11</td>\n",
              "      <td>62</td>\n",
              "    </tr>\n",
              "    <tr>\n",
              "      <th>12</th>\n",
              "      <td>12</td>\n",
              "      <td>66</td>\n",
              "    </tr>\n",
              "    <tr>\n",
              "      <th>13</th>\n",
              "      <td>13</td>\n",
              "      <td>54</td>\n",
              "    </tr>\n",
              "    <tr>\n",
              "      <th>14</th>\n",
              "      <td>14</td>\n",
              "      <td>72</td>\n",
              "    </tr>\n",
              "    <tr>\n",
              "      <th>15</th>\n",
              "      <td>15</td>\n",
              "      <td>103</td>\n",
              "    </tr>\n",
              "    <tr>\n",
              "      <th>16</th>\n",
              "      <td>16</td>\n",
              "      <td>106</td>\n",
              "    </tr>\n",
              "    <tr>\n",
              "      <th>17</th>\n",
              "      <td>17</td>\n",
              "      <td>62</td>\n",
              "    </tr>\n",
              "    <tr>\n",
              "      <th>18</th>\n",
              "      <td>18</td>\n",
              "      <td>71</td>\n",
              "    </tr>\n",
              "    <tr>\n",
              "      <th>19</th>\n",
              "      <td>19</td>\n",
              "      <td>62</td>\n",
              "    </tr>\n",
              "    <tr>\n",
              "      <th>20</th>\n",
              "      <td>20</td>\n",
              "      <td>66</td>\n",
              "    </tr>\n",
              "    <tr>\n",
              "      <th>21</th>\n",
              "      <td>21</td>\n",
              "      <td>61</td>\n",
              "    </tr>\n",
              "    <tr>\n",
              "      <th>22</th>\n",
              "      <td>22</td>\n",
              "      <td>52</td>\n",
              "    </tr>\n",
              "    <tr>\n",
              "      <th>23</th>\n",
              "      <td>23</td>\n",
              "      <td>47</td>\n",
              "    </tr>\n",
              "  </tbody>\n",
              "</table>\n",
              "</div>"
            ],
            "text/plain": [
              "   index  Hourbased_Time\n",
              "0     00              27\n",
              "1     01              26\n",
              "2     02              39\n",
              "3     03              20\n",
              "4     04              26\n",
              "5     05              24\n",
              "6     06              69\n",
              "7     07              74\n",
              "8     08              43\n",
              "9     09              70\n",
              "10    10              58\n",
              "11    11              62\n",
              "12    12              66\n",
              "13    13              54\n",
              "14    14              72\n",
              "15    15             103\n",
              "16    16             106\n",
              "17    17              62\n",
              "18    18              71\n",
              "19    19              62\n",
              "20    20              66\n",
              "21    21              61\n",
              "22    22              52\n",
              "23    23              47"
            ]
          },
          "metadata": {},
          "execution_count": 49
        }
      ]
    },
    {
      "cell_type": "code",
      "metadata": {
        "colab": {
          "base_uri": "https://localhost:8080/",
          "height": 521
        },
        "id": "92BsgMy0Umge",
        "outputId": "3236d896-9fb9-4ac9-ea70-3a207ceaa635"
      },
      "source": [
        "plt.figure(figsize=(14,8))\n",
        "ax =sns.barplot(df1['index'],df1['Hourbased_Time'])\n",
        "x_locs,x_lables = plt.xticks()\n",
        "#plt.setp(x_lables, rotation=60)     ##rotating the x_lables\n",
        "plt.title(\"Bar Chart: Num of Rides per Hour(Same Price Data)\", fontsize=20)\n",
        "plt.ylabel(\"Number of Rides\", fontsize=12)\n",
        "plt.xlabel(\"Hour\",fontsize=12)\n",
        "\n",
        "                  #adding text lables...\n",
        "r = ax.patches\n",
        "labels = df1['Hourbased_Time']\n",
        "for rec,label in zip(r,labels):\n",
        "  height = rec.get_height()\n",
        "  ax.text(rec.get_x() + rec.get_width()/2,\n",
        "          height,\n",
        "          label,\n",
        "          ha='center',\n",
        "          va='bottom')"
      ],
      "execution_count": null,
      "outputs": [
        {
          "output_type": "display_data",
          "data": {
            "image/png": "[encoded data removed]",
            "text/plain": [
              "<Figure size 1008x576 with 1 Axes>"
            ]
          },
          "metadata": {
            "needs_background": "light"
          }
        }
      ]
    },
    {
      "cell_type": "code",
      "metadata": {
        "colab": {
          "base_uri": "https://localhost:8080/",
          "height": 521
        },
        "id": "eIF1TN_PS1v_",
        "outputId": "34de563b-17c5-41c4-af71-93fcd22f79d1"
      },
      "source": [
        "plt.figure(figsize=(14,8))\n",
        "ax =sns.barplot(df_2['index'],df_2['Hourbased_Time'])\n",
        "x_locs,x_lables = plt.xticks()\n",
        "#plt.setp(x_lables, rotation=60)     ##rotating the x_lables\n",
        "plt.title(\"Bar Chart: Num of Rides per Hour(Diff Price Data)\", fontsize=20)\n",
        "plt.ylabel(\"Number of Rides\", fontsize=12)\n",
        "plt.xlabel(\"Hour\",fontsize=12)\n",
        "#plt.grid()\n",
        "\n",
        "                  #adding text lables...\n",
        "r = ax.patches\n",
        "labels = df_2['Hourbased_Time']\n",
        "for rec,label in zip(r,labels):\n",
        "  height = rec.get_height()\n",
        "  ax.text(rec.get_x() + rec.get_width()/2,\n",
        "          height,\n",
        "          label,\n",
        "          ha='center',\n",
        "          va='bottom')"
      ],
      "execution_count": null,
      "outputs": [
        {
          "output_type": "display_data",
          "data": {
            "image/png": "[encoded data removed]",
            "text/plain": [
              "<Figure size 1008x576 with 1 Axes>"
            ]
          },
          "metadata": {
            "needs_background": "light"
          }
        }
      ]
    },
    {
      "cell_type": "markdown",
      "metadata": {
        "id": "9MQWt1Y1Joje"
      },
      "source": [
        "- A closely similar trend in observed for both sets of data.\n",
        "\n",
        "- Therefor this feature does not have a strong influence on upfront pricing"
      ]
    },
    {
      "cell_type": "code",
      "metadata": {
        "id": "OLxeLLLUhzag"
      },
      "source": [
        ""
      ],
      "execution_count": null,
      "outputs": []
    },
    {
      "cell_type": "markdown",
      "metadata": {
        "id": "VZJVv0bJ0o39"
      },
      "source": [
        "## App Version"
      ]
    },
    {
      "cell_type": "code",
      "metadata": {
        "colab": {
          "base_uri": "https://localhost:8080/"
        },
        "id": "4_UnVVI-rL5e",
        "outputId": "d493d42d-d6a0-4f3a-e1b5-04c0f5b770e5"
      },
      "source": [
        "(Billing_DF['rider_app_version'].value_counts(normalize=True)*100)[:5]"
      ],
      "execution_count": null,
      "outputs": [
        {
          "output_type": "execute_result",
          "data": {
            "text/plain": [
              "CI.4.17    14.645541\n",
              "CI.4.19    12.675198\n",
              "CA.5.44    11.375178\n",
              "CA.5.43     8.247004\n",
              "CA.5.42     7.414178\n",
              "Name: rider_app_version, dtype: float64"
            ]
          },
          "metadata": {},
          "execution_count": 101
        }
      ]
    },
    {
      "cell_type": "code",
      "metadata": {
        "colab": {
          "base_uri": "https://localhost:8080/"
        },
        "id": "a989AkLLrLt-",
        "outputId": "3281f54a-2389-43fd-a874-f20688979fc9"
      },
      "source": [
        "(Same_PriceDF['rider_app_version'].value_counts(normalize=True)*100)[:5]"
      ],
      "execution_count": null,
      "outputs": [
        {
          "output_type": "execute_result",
          "data": {
            "text/plain": [
              "CI.4.17    17.769194\n",
              "CI.4.19    13.085466\n",
              "CA.5.44    10.864317\n",
              "CA.5.43    10.140029\n",
              "CA.5.42     7.774022\n",
              "Name: rider_app_version, dtype: float64"
            ]
          },
          "metadata": {},
          "execution_count": 102
        }
      ]
    },
    {
      "cell_type": "code",
      "metadata": {
        "colab": {
          "base_uri": "https://localhost:8080/"
        },
        "id": "4tBApkLrrLla",
        "outputId": "ecf2c18f-0200-416a-ba35-a5f95c17f4fb"
      },
      "source": [
        "(Diff_PriceDF['rider_app_version'].value_counts(normalize=True)*100)[:5] "
      ],
      "execution_count": null,
      "outputs": [
        {
          "output_type": "execute_result",
          "data": {
            "text/plain": [
              "CI.4.19    12.377279\n",
              "CI.4.17    12.377279\n",
              "CA.5.44    11.746143\n",
              "CA.5.42     7.152875\n",
              "CA.5.43     6.872370\n",
              "Name: rider_app_version, dtype: float64"
            ]
          },
          "metadata": {},
          "execution_count": 103
        }
      ]
    },
    {
      "cell_type": "code",
      "metadata": {
        "id": "hr-8V1M349Vm"
      },
      "source": [
        ""
      ],
      "execution_count": null,
      "outputs": []
    },
    {
      "cell_type": "code",
      "metadata": {
        "colab": {
          "base_uri": "https://localhost:8080/"
        },
        "id": "4Ch16b1oc8vh",
        "outputId": "b1eae728-da60-43d0-e318-ce109a65d69a"
      },
      "source": [
        "(Same_PriceDF['driver_app_version'].value_counts(normalize=True)*100)[:5] "
      ],
      "execution_count": null,
      "outputs": [
        {
          "output_type": "execute_result",
          "data": {
            "text/plain": [
              "DA.4.39    32.206663\n",
              "DA.4.37    22.211492\n",
              "DA.4.42    14.099469\n",
              "DA.4.31     6.663448\n",
              "DA.4.34     5.552873\n",
              "Name: driver_app_version, dtype: float64"
            ]
          },
          "metadata": {},
          "execution_count": 104
        }
      ]
    },
    {
      "cell_type": "code",
      "metadata": {
        "colab": {
          "base_uri": "https://localhost:8080/"
        },
        "id": "o0i0r_8PRBM3",
        "outputId": "e2a21cd6-0195-46bb-eb9f-7aa4716f372b"
      },
      "source": [
        "(Diff_PriceDF['driver_app_version'].value_counts(normalize=True)*100)[:5] s"
      ],
      "execution_count": null,
      "outputs": [
        {
          "output_type": "execute_result",
          "data": {
            "text/plain": [
              "DA.4.39    31.591865\n",
              "DA.4.37    18.863955\n",
              "DA.4.42    17.812062\n",
              "DA.4.34     6.065919\n",
              "DA.4.31     5.014025\n",
              "Name: driver_app_version, dtype: float64"
            ]
          },
          "metadata": {},
          "execution_count": 105
        }
      ]
    },
    {
      "cell_type": "code",
      "metadata": {
        "id": "0shuyROURs9f"
      },
      "source": [
        ""
      ],
      "execution_count": null,
      "outputs": []
    },
    {
      "cell_type": "markdown",
      "metadata": {
        "id": "r1vdzfhPJ9IM"
      },
      "source": [
        "- A closely similar trend in observed for both sets of data.\n",
        "\n",
        "- Therefor the App versions by both riders and drivers do not have a strong influence on upfront pricing"
      ]
    },
    {
      "cell_type": "code",
      "metadata": {
        "id": "tABzQWS8J8uh"
      },
      "source": [
        ""
      ],
      "execution_count": null,
      "outputs": []
    },
    {
      "cell_type": "markdown",
      "metadata": {
        "id": "6equjYpd03qC"
      },
      "source": [
        "## Features' Correlation"
      ]
    },
    {
      "cell_type": "code",
      "metadata": {
        "id": "VnKdykSnRztF",
        "colab": {
          "base_uri": "https://localhost:8080/",
          "height": 706
        },
        "outputId": "44ab5a75-482c-4139-efc7-65595a319dad"
      },
      "source": [
        "#plot the heatmap by using the correlation for the dataset. \n",
        "f,ax=plt.subplots(figsize=(12,10))\n",
        "sns.heatmap(Billing_DF.corr(),linewidths=0.2, vmax=1.0, square=True,cmap=sns.diverging_palette(200,10, as_cmap=True),\n",
        "            ax=ax,annot=True)"
      ],
      "execution_count": null,
      "outputs": [
        {
          "output_type": "execute_result",
          "data": {
            "text/plain": [
              "<matplotlib.axes._subplots.AxesSubplot at 0x7fc5bc9e3b50>"
            ]
          },
          "metadata": {},
          "execution_count": 100
        },
        {
          "output_type": "display_data",
          "data": {
            "image/png": "[encoded data removed]",
            "text/plain": [
              "<Figure size 864x720 with 2 Axes>"
            ]
          },
          "metadata": {
            "needs_background": "light"
          }
        }
      ]
    },
    {
      "cell_type": "code",
      "metadata": {
        "id": "sFNgywZiRwki"
      },
      "source": [
        ""
      ],
      "execution_count": null,
      "outputs": []
    },
    {
      "cell_type": "markdown",
      "metadata": {
        "id": "DfWyeXiUKdUL"
      },
      "source": [
        "- Evaluation of features' correlations to pick top opportunities/features that directly influence the upfront price;\n",
        "      \n",
        "- Top features which correlate positively with the *upfront price* are;\n",
        "\n",
        "- the *Predicted distance* and the *Predicted duration* (0.62 correlation value)"
      ]
    },
    {
      "cell_type": "code",
      "metadata": {
        "id": "TfA6UZzxRs2q"
      },
      "source": [
        ""
      ],
      "execution_count": null,
      "outputs": []
    },
    {
      "cell_type": "markdown",
      "metadata": {
        "id": "XO3LcMFkLCt2"
      },
      "source": [
        "# Section D: Conclusion"
      ]
    },
    {
      "cell_type": "markdown",
      "metadata": {
        "id": "e1ezAVuOLa_Q"
      },
      "source": [
        "- The following conclusions can be drawn from the full analytical task done on the provided data ;\n",
        "\n",
        "- The top features that can directly help to improve  the upfront pricing are;   \n",
        "     \n",
        "  -  **Predicted Distance and Predicted Duration**: The correlation results shows that a high precision in the predicted Distance and Duration results in a very high precision in the Upfront Price,\n",
        "  \n",
        " - It is therefore the top opportunity for improvement. If more accurate predictions of distance and duration are made, a corresponding high accuracy will be recorded in the upfront pricing.\n",
        "        \n",
        "        \n",
        "- Other important features include;\n",
        " \n",
        " - GPS Confidence\n",
        "        \n",
        " - Number of Destination Changes\n",
        "         \n",
        " - EU-Indicator"
      ]
    },
    {
      "cell_type": "code",
      "metadata": {
        "id": "ueQMYaIxLGy-"
      },
      "source": [
        ""
      ],
      "execution_count": null,
      "outputs": []
    }
  ]
}